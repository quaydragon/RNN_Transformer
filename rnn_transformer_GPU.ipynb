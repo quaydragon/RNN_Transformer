{
  "cells": [
    {
      "cell_type": "markdown",
      "metadata": {
        "id": "2a6e9e8b"
      },
      "source": [
        "# Programming assignment 2: Recurrent Neural Networks and Transformer"
      ],
      "id": "2a6e9e8b"
    },
    {
      "cell_type": "markdown",
      "metadata": {
        "id": "7f7493e6"
      },
      "source": [
        "## Overview"
      ],
      "id": "7f7493e6"
    },
    {
      "cell_type": "markdown",
      "metadata": {
        "id": "193d314b"
      },
      "source": [
        "<font size='4'>In this assignment you will practice putting together implementations of Recurrent Neural Networks, Transformer (encoder and decoder), and their applications to text classification, image classification, and text generation (machine translation). Especially for Transformer, you will get good understandings about foundations for very state-of-the-art models that you likely to see in tech news articles nowadays, like GPT-3, CLIP, or VisionTransformer.</font>"
      ],
      "id": "193d314b"
    },
    {
      "cell_type": "markdown",
      "metadata": {
        "id": "e938397f"
      },
      "source": [
        "## Submission format"
      ],
      "id": "e938397f"
    },
    {
      "cell_type": "markdown",
      "metadata": {
        "id": "e960af27"
      },
      "source": [
        "- <font size='4'>`<your_nu_username>_rnn_transformer.ipynb` with your implementations and output.</font>"
      ],
      "id": "e960af27"
    },
    {
      "cell_type": "markdown",
      "metadata": {
        "id": "3460ded9"
      },
      "source": [
        "## Note"
      ],
      "id": "3460ded9"
    },
    {
      "cell_type": "markdown",
      "metadata": {
        "id": "549c3563"
      },
      "source": [
        "<font size='4'>  \n",
        "- You do not need to tune hyper parameters in the regular tasks.\n",
        "\n",
        "- You do not install any additional packages inside the Colab environment. Do not forget to choose to use GPU in the `Runtime\\Change runtime type` tab.    \n",
        "\n",
        "- **You are not allowed to look for answers online. Except for the links provided in this assignment, which are mainly about PyTorch documentation.**\n",
        "\n",
        "- **Violation of this policy will lead to failure of your course and even more severe consequences.**\n",
        "\n",
        "- Attend office hours and make post on Piazza if you have any questions.\n",
        "\n",
        "- You have more than 30 days to work on this assignment. Please refrain from asking for extensions.\n",
        "\n",
        "- The thrid programming assignment is optional but you may earn extra credits out it. Plan wisely as its deadline may approach the end of this semester, where there are a lot of deadlines around.\n",
        "</font>\n"
      ],
      "id": "549c3563"
    },
    {
      "cell_type": "markdown",
      "metadata": {
        "id": "c34a5320"
      },
      "source": [
        "## Setup"
      ],
      "id": "c34a5320"
    },
    {
      "cell_type": "code",
      "execution_count": null,
      "metadata": {
        "colab": {
          "base_uri": "https://localhost:8080/"
        },
        "id": "3e59bfb8",
        "outputId": "491a93d0-f593-4405-ec8a-b09490e56c2a"
      },
      "outputs": [
        {
          "name": "stdout",
          "output_type": "stream",
          "text": [
            "Requirement already satisfied: spacy in /usr/local/lib/python3.7/dist-packages (3.2.4)\n",
            "Requirement already satisfied: pathy>=0.3.5 in /usr/local/lib/python3.7/dist-packages (from spacy) (0.6.1)\n",
            "Requirement already satisfied: wasabi<1.1.0,>=0.8.1 in /usr/local/lib/python3.7/dist-packages (from spacy) (0.9.1)\n",
            "Requirement already satisfied: packaging>=20.0 in /usr/local/lib/python3.7/dist-packages (from spacy) (21.3)\n",
            "Requirement already satisfied: spacy-loggers<2.0.0,>=1.0.0 in /usr/local/lib/python3.7/dist-packages (from spacy) (1.0.2)\n",
            "Requirement already satisfied: typer<0.5.0,>=0.3.0 in /usr/local/lib/python3.7/dist-packages (from spacy) (0.4.1)\n",
            "Requirement already satisfied: tqdm<5.0.0,>=4.38.0 in /usr/local/lib/python3.7/dist-packages (from spacy) (4.64.0)\n",
            "Requirement already satisfied: catalogue<2.1.0,>=2.0.6 in /usr/local/lib/python3.7/dist-packages (from spacy) (2.0.7)\n",
            "Requirement already satisfied: requests<3.0.0,>=2.13.0 in /usr/local/lib/python3.7/dist-packages (from spacy) (2.23.0)\n",
            "Requirement already satisfied: pydantic!=1.8,!=1.8.1,<1.9.0,>=1.7.4 in /usr/local/lib/python3.7/dist-packages (from spacy) (1.8.2)\n",
            "Requirement already satisfied: typing-extensions<4.0.0.0,>=3.7.4 in /usr/local/lib/python3.7/dist-packages (from spacy) (3.10.0.2)\n",
            "Requirement already satisfied: cymem<2.1.0,>=2.0.2 in /usr/local/lib/python3.7/dist-packages (from spacy) (2.0.6)\n",
            "Requirement already satisfied: setuptools in /usr/local/lib/python3.7/dist-packages (from spacy) (57.4.0)\n",
            "Requirement already satisfied: spacy-legacy<3.1.0,>=3.0.8 in /usr/local/lib/python3.7/dist-packages (from spacy) (3.0.9)\n",
            "Requirement already satisfied: blis<0.8.0,>=0.4.0 in /usr/local/lib/python3.7/dist-packages (from spacy) (0.4.1)\n",
            "Requirement already satisfied: numpy>=1.15.0 in /usr/local/lib/python3.7/dist-packages (from spacy) (1.21.5)\n",
            "Requirement already satisfied: click<8.1.0 in /usr/local/lib/python3.7/dist-packages (from spacy) (7.1.2)\n",
            "Requirement already satisfied: preshed<3.1.0,>=3.0.2 in /usr/local/lib/python3.7/dist-packages (from spacy) (3.0.6)\n",
            "Requirement already satisfied: langcodes<4.0.0,>=3.2.0 in /usr/local/lib/python3.7/dist-packages (from spacy) (3.3.0)\n",
            "Requirement already satisfied: jinja2 in /usr/local/lib/python3.7/dist-packages (from spacy) (2.11.3)\n",
            "Requirement already satisfied: thinc<8.1.0,>=8.0.12 in /usr/local/lib/python3.7/dist-packages (from spacy) (8.0.15)\n",
            "Requirement already satisfied: srsly<3.0.0,>=2.4.1 in /usr/local/lib/python3.7/dist-packages (from spacy) (2.4.3)\n",
            "Requirement already satisfied: murmurhash<1.1.0,>=0.28.0 in /usr/local/lib/python3.7/dist-packages (from spacy) (1.0.6)\n",
            "Requirement already satisfied: zipp>=0.5 in /usr/local/lib/python3.7/dist-packages (from catalogue<2.1.0,>=2.0.6->spacy) (3.8.0)\n",
            "Requirement already satisfied: pyparsing!=3.0.5,>=2.0.2 in /usr/local/lib/python3.7/dist-packages (from packaging>=20.0->spacy) (3.0.8)\n",
            "Requirement already satisfied: smart-open<6.0.0,>=5.0.0 in /usr/local/lib/python3.7/dist-packages (from pathy>=0.3.5->spacy) (5.2.1)\n",
            "Requirement already satisfied: certifi>=2017.4.17 in /usr/local/lib/python3.7/dist-packages (from requests<3.0.0,>=2.13.0->spacy) (2021.10.8)\n",
            "Requirement already satisfied: chardet<4,>=3.0.2 in /usr/local/lib/python3.7/dist-packages (from requests<3.0.0,>=2.13.0->spacy) (3.0.4)\n",
            "Requirement already satisfied: idna<3,>=2.5 in /usr/local/lib/python3.7/dist-packages (from requests<3.0.0,>=2.13.0->spacy) (2.10)\n",
            "Requirement already satisfied: urllib3!=1.25.0,!=1.25.1,<1.26,>=1.21.1 in /usr/local/lib/python3.7/dist-packages (from requests<3.0.0,>=2.13.0->spacy) (1.24.3)\n",
            "Requirement already satisfied: MarkupSafe>=0.23 in /usr/local/lib/python3.7/dist-packages (from jinja2->spacy) (2.0.1)\n",
            "Collecting en-core-web-sm==3.2.0\n",
            "  Downloading https://github.com/explosion/spacy-models/releases/download/en_core_web_sm-3.2.0/en_core_web_sm-3.2.0-py3-none-any.whl (13.9 MB)\n",
            "\u001b[K     |████████████████████████████████| 13.9 MB 5.0 MB/s \n",
            "\u001b[?25hRequirement already satisfied: spacy<3.3.0,>=3.2.0 in /usr/local/lib/python3.7/dist-packages (from en-core-web-sm==3.2.0) (3.2.4)\n",
            "Requirement already satisfied: srsly<3.0.0,>=2.4.1 in /usr/local/lib/python3.7/dist-packages (from spacy<3.3.0,>=3.2.0->en-core-web-sm==3.2.0) (2.4.3)\n",
            "Requirement already satisfied: numpy>=1.15.0 in /usr/local/lib/python3.7/dist-packages (from spacy<3.3.0,>=3.2.0->en-core-web-sm==3.2.0) (1.21.5)\n",
            "Requirement already satisfied: catalogue<2.1.0,>=2.0.6 in /usr/local/lib/python3.7/dist-packages (from spacy<3.3.0,>=3.2.0->en-core-web-sm==3.2.0) (2.0.7)\n",
            "Requirement already satisfied: setuptools in /usr/local/lib/python3.7/dist-packages (from spacy<3.3.0,>=3.2.0->en-core-web-sm==3.2.0) (57.4.0)\n",
            "Requirement already satisfied: jinja2 in /usr/local/lib/python3.7/dist-packages (from spacy<3.3.0,>=3.2.0->en-core-web-sm==3.2.0) (2.11.3)\n",
            "Requirement already satisfied: pydantic!=1.8,!=1.8.1,<1.9.0,>=1.7.4 in /usr/local/lib/python3.7/dist-packages (from spacy<3.3.0,>=3.2.0->en-core-web-sm==3.2.0) (1.8.2)\n",
            "Requirement already satisfied: requests<3.0.0,>=2.13.0 in /usr/local/lib/python3.7/dist-packages (from spacy<3.3.0,>=3.2.0->en-core-web-sm==3.2.0) (2.23.0)\n",
            "Requirement already satisfied: pathy>=0.3.5 in /usr/local/lib/python3.7/dist-packages (from spacy<3.3.0,>=3.2.0->en-core-web-sm==3.2.0) (0.6.1)\n",
            "Requirement already satisfied: typer<0.5.0,>=0.3.0 in /usr/local/lib/python3.7/dist-packages (from spacy<3.3.0,>=3.2.0->en-core-web-sm==3.2.0) (0.4.1)\n",
            "Requirement already satisfied: typing-extensions<4.0.0.0,>=3.7.4 in /usr/local/lib/python3.7/dist-packages (from spacy<3.3.0,>=3.2.0->en-core-web-sm==3.2.0) (3.10.0.2)\n",
            "Requirement already satisfied: thinc<8.1.0,>=8.0.12 in /usr/local/lib/python3.7/dist-packages (from spacy<3.3.0,>=3.2.0->en-core-web-sm==3.2.0) (8.0.15)\n",
            "Requirement already satisfied: packaging>=20.0 in /usr/local/lib/python3.7/dist-packages (from spacy<3.3.0,>=3.2.0->en-core-web-sm==3.2.0) (21.3)\n",
            "Requirement already satisfied: click<8.1.0 in /usr/local/lib/python3.7/dist-packages (from spacy<3.3.0,>=3.2.0->en-core-web-sm==3.2.0) (7.1.2)\n",
            "Requirement already satisfied: blis<0.8.0,>=0.4.0 in /usr/local/lib/python3.7/dist-packages (from spacy<3.3.0,>=3.2.0->en-core-web-sm==3.2.0) (0.4.1)\n",
            "Requirement already satisfied: spacy-legacy<3.1.0,>=3.0.8 in /usr/local/lib/python3.7/dist-packages (from spacy<3.3.0,>=3.2.0->en-core-web-sm==3.2.0) (3.0.9)\n",
            "Requirement already satisfied: cymem<2.1.0,>=2.0.2 in /usr/local/lib/python3.7/dist-packages (from spacy<3.3.0,>=3.2.0->en-core-web-sm==3.2.0) (2.0.6)\n",
            "Requirement already satisfied: preshed<3.1.0,>=3.0.2 in /usr/local/lib/python3.7/dist-packages (from spacy<3.3.0,>=3.2.0->en-core-web-sm==3.2.0) (3.0.6)\n",
            "Requirement already satisfied: murmurhash<1.1.0,>=0.28.0 in /usr/local/lib/python3.7/dist-packages (from spacy<3.3.0,>=3.2.0->en-core-web-sm==3.2.0) (1.0.6)\n",
            "Requirement already satisfied: tqdm<5.0.0,>=4.38.0 in /usr/local/lib/python3.7/dist-packages (from spacy<3.3.0,>=3.2.0->en-core-web-sm==3.2.0) (4.64.0)\n",
            "Requirement already satisfied: wasabi<1.1.0,>=0.8.1 in /usr/local/lib/python3.7/dist-packages (from spacy<3.3.0,>=3.2.0->en-core-web-sm==3.2.0) (0.9.1)\n",
            "Requirement already satisfied: spacy-loggers<2.0.0,>=1.0.0 in /usr/local/lib/python3.7/dist-packages (from spacy<3.3.0,>=3.2.0->en-core-web-sm==3.2.0) (1.0.2)\n",
            "Requirement already satisfied: langcodes<4.0.0,>=3.2.0 in /usr/local/lib/python3.7/dist-packages (from spacy<3.3.0,>=3.2.0->en-core-web-sm==3.2.0) (3.3.0)\n",
            "Requirement already satisfied: zipp>=0.5 in /usr/local/lib/python3.7/dist-packages (from catalogue<2.1.0,>=2.0.6->spacy<3.3.0,>=3.2.0->en-core-web-sm==3.2.0) (3.8.0)\n",
            "Requirement already satisfied: pyparsing!=3.0.5,>=2.0.2 in /usr/local/lib/python3.7/dist-packages (from packaging>=20.0->spacy<3.3.0,>=3.2.0->en-core-web-sm==3.2.0) (3.0.8)\n",
            "Requirement already satisfied: smart-open<6.0.0,>=5.0.0 in /usr/local/lib/python3.7/dist-packages (from pathy>=0.3.5->spacy<3.3.0,>=3.2.0->en-core-web-sm==3.2.0) (5.2.1)\n",
            "Requirement already satisfied: chardet<4,>=3.0.2 in /usr/local/lib/python3.7/dist-packages (from requests<3.0.0,>=2.13.0->spacy<3.3.0,>=3.2.0->en-core-web-sm==3.2.0) (3.0.4)\n",
            "Requirement already satisfied: urllib3!=1.25.0,!=1.25.1,<1.26,>=1.21.1 in /usr/local/lib/python3.7/dist-packages (from requests<3.0.0,>=2.13.0->spacy<3.3.0,>=3.2.0->en-core-web-sm==3.2.0) (1.24.3)\n",
            "Requirement already satisfied: certifi>=2017.4.17 in /usr/local/lib/python3.7/dist-packages (from requests<3.0.0,>=2.13.0->spacy<3.3.0,>=3.2.0->en-core-web-sm==3.2.0) (2021.10.8)\n",
            "Requirement already satisfied: idna<3,>=2.5 in /usr/local/lib/python3.7/dist-packages (from requests<3.0.0,>=2.13.0->spacy<3.3.0,>=3.2.0->en-core-web-sm==3.2.0) (2.10)\n",
            "Requirement already satisfied: MarkupSafe>=0.23 in /usr/local/lib/python3.7/dist-packages (from jinja2->spacy<3.3.0,>=3.2.0->en-core-web-sm==3.2.0) (2.0.1)\n",
            "\u001b[38;5;2m✔ Download and installation successful\u001b[0m\n",
            "You can now load the package via spacy.load('en_core_web_sm')\n",
            "Collecting de-core-news-sm==3.2.0\n",
            "  Downloading https://github.com/explosion/spacy-models/releases/download/de_core_news_sm-3.2.0/de_core_news_sm-3.2.0-py3-none-any.whl (19.1 MB)\n",
            "\u001b[K     |████████████████████████████████| 19.1 MB 5.1 MB/s \n",
            "\u001b[?25hRequirement already satisfied: spacy<3.3.0,>=3.2.0 in /usr/local/lib/python3.7/dist-packages (from de-core-news-sm==3.2.0) (3.2.4)\n",
            "Requirement already satisfied: tqdm<5.0.0,>=4.38.0 in /usr/local/lib/python3.7/dist-packages (from spacy<3.3.0,>=3.2.0->de-core-news-sm==3.2.0) (4.64.0)\n",
            "Requirement already satisfied: typing-extensions<4.0.0.0,>=3.7.4 in /usr/local/lib/python3.7/dist-packages (from spacy<3.3.0,>=3.2.0->de-core-news-sm==3.2.0) (3.10.0.2)\n",
            "Requirement already satisfied: srsly<3.0.0,>=2.4.1 in /usr/local/lib/python3.7/dist-packages (from spacy<3.3.0,>=3.2.0->de-core-news-sm==3.2.0) (2.4.3)\n",
            "Requirement already satisfied: spacy-loggers<2.0.0,>=1.0.0 in /usr/local/lib/python3.7/dist-packages (from spacy<3.3.0,>=3.2.0->de-core-news-sm==3.2.0) (1.0.2)\n",
            "Requirement already satisfied: blis<0.8.0,>=0.4.0 in /usr/local/lib/python3.7/dist-packages (from spacy<3.3.0,>=3.2.0->de-core-news-sm==3.2.0) (0.4.1)\n",
            "Requirement already satisfied: pydantic!=1.8,!=1.8.1,<1.9.0,>=1.7.4 in /usr/local/lib/python3.7/dist-packages (from spacy<3.3.0,>=3.2.0->de-core-news-sm==3.2.0) (1.8.2)\n",
            "Requirement already satisfied: numpy>=1.15.0 in /usr/local/lib/python3.7/dist-packages (from spacy<3.3.0,>=3.2.0->de-core-news-sm==3.2.0) (1.21.5)\n",
            "Requirement already satisfied: requests<3.0.0,>=2.13.0 in /usr/local/lib/python3.7/dist-packages (from spacy<3.3.0,>=3.2.0->de-core-news-sm==3.2.0) (2.23.0)\n",
            "Requirement already satisfied: jinja2 in /usr/local/lib/python3.7/dist-packages (from spacy<3.3.0,>=3.2.0->de-core-news-sm==3.2.0) (2.11.3)\n",
            "Requirement already satisfied: wasabi<1.1.0,>=0.8.1 in /usr/local/lib/python3.7/dist-packages (from spacy<3.3.0,>=3.2.0->de-core-news-sm==3.2.0) (0.9.1)\n",
            "Requirement already satisfied: pathy>=0.3.5 in /usr/local/lib/python3.7/dist-packages (from spacy<3.3.0,>=3.2.0->de-core-news-sm==3.2.0) (0.6.1)\n",
            "Requirement already satisfied: murmurhash<1.1.0,>=0.28.0 in /usr/local/lib/python3.7/dist-packages (from spacy<3.3.0,>=3.2.0->de-core-news-sm==3.2.0) (1.0.6)\n",
            "Requirement already satisfied: thinc<8.1.0,>=8.0.12 in /usr/local/lib/python3.7/dist-packages (from spacy<3.3.0,>=3.2.0->de-core-news-sm==3.2.0) (8.0.15)\n",
            "Requirement already satisfied: packaging>=20.0 in /usr/local/lib/python3.7/dist-packages (from spacy<3.3.0,>=3.2.0->de-core-news-sm==3.2.0) (21.3)\n",
            "Requirement already satisfied: spacy-legacy<3.1.0,>=3.0.8 in /usr/local/lib/python3.7/dist-packages (from spacy<3.3.0,>=3.2.0->de-core-news-sm==3.2.0) (3.0.9)\n",
            "Requirement already satisfied: langcodes<4.0.0,>=3.2.0 in /usr/local/lib/python3.7/dist-packages (from spacy<3.3.0,>=3.2.0->de-core-news-sm==3.2.0) (3.3.0)\n",
            "Requirement already satisfied: catalogue<2.1.0,>=2.0.6 in /usr/local/lib/python3.7/dist-packages (from spacy<3.3.0,>=3.2.0->de-core-news-sm==3.2.0) (2.0.7)\n",
            "Requirement already satisfied: setuptools in /usr/local/lib/python3.7/dist-packages (from spacy<3.3.0,>=3.2.0->de-core-news-sm==3.2.0) (57.4.0)\n",
            "Requirement already satisfied: cymem<2.1.0,>=2.0.2 in /usr/local/lib/python3.7/dist-packages (from spacy<3.3.0,>=3.2.0->de-core-news-sm==3.2.0) (2.0.6)\n",
            "Requirement already satisfied: preshed<3.1.0,>=3.0.2 in /usr/local/lib/python3.7/dist-packages (from spacy<3.3.0,>=3.2.0->de-core-news-sm==3.2.0) (3.0.6)\n",
            "Requirement already satisfied: typer<0.5.0,>=0.3.0 in /usr/local/lib/python3.7/dist-packages (from spacy<3.3.0,>=3.2.0->de-core-news-sm==3.2.0) (0.4.1)\n",
            "Requirement already satisfied: click<8.1.0 in /usr/local/lib/python3.7/dist-packages (from spacy<3.3.0,>=3.2.0->de-core-news-sm==3.2.0) (7.1.2)\n",
            "Requirement already satisfied: zipp>=0.5 in /usr/local/lib/python3.7/dist-packages (from catalogue<2.1.0,>=2.0.6->spacy<3.3.0,>=3.2.0->de-core-news-sm==3.2.0) (3.8.0)\n",
            "Requirement already satisfied: pyparsing!=3.0.5,>=2.0.2 in /usr/local/lib/python3.7/dist-packages (from packaging>=20.0->spacy<3.3.0,>=3.2.0->de-core-news-sm==3.2.0) (3.0.8)\n",
            "Requirement already satisfied: smart-open<6.0.0,>=5.0.0 in /usr/local/lib/python3.7/dist-packages (from pathy>=0.3.5->spacy<3.3.0,>=3.2.0->de-core-news-sm==3.2.0) (5.2.1)\n",
            "Requirement already satisfied: certifi>=2017.4.17 in /usr/local/lib/python3.7/dist-packages (from requests<3.0.0,>=2.13.0->spacy<3.3.0,>=3.2.0->de-core-news-sm==3.2.0) (2021.10.8)\n",
            "Requirement already satisfied: idna<3,>=2.5 in /usr/local/lib/python3.7/dist-packages (from requests<3.0.0,>=2.13.0->spacy<3.3.0,>=3.2.0->de-core-news-sm==3.2.0) (2.10)\n",
            "Requirement already satisfied: urllib3!=1.25.0,!=1.25.1,<1.26,>=1.21.1 in /usr/local/lib/python3.7/dist-packages (from requests<3.0.0,>=2.13.0->spacy<3.3.0,>=3.2.0->de-core-news-sm==3.2.0) (1.24.3)\n",
            "Requirement already satisfied: chardet<4,>=3.0.2 in /usr/local/lib/python3.7/dist-packages (from requests<3.0.0,>=2.13.0->spacy<3.3.0,>=3.2.0->de-core-news-sm==3.2.0) (3.0.4)\n",
            "Requirement already satisfied: MarkupSafe>=0.23 in /usr/local/lib/python3.7/dist-packages (from jinja2->spacy<3.3.0,>=3.2.0->de-core-news-sm==3.2.0) (2.0.1)\n",
            "\u001b[38;5;2m✔ Download and installation successful\u001b[0m\n",
            "You can now load the package via spacy.load('de_core_news_sm')\n"
          ]
        }
      ],
      "source": [
        "# ==================\n",
        "# ATTENTION:\n",
        "# For the first time, uncomment the following lines and re-run the cell.\n",
        "# You may have to hit the \"RESTART RUNTIME\" button in the output and then re-run this cell.\n",
        "# Once it is done, you can comment the following lines and run other cells.\n",
        "# ==================\n",
        "\n",
        "# # Create source and target language tokenizer. Make sure to install the dependencies.\n",
        "!pip install -U spacy\n",
        "\n",
        "!python -m spacy download en_core_web_sm\n",
        "!python -m spacy download de_core_news_sm"
      ],
      "id": "3e59bfb8"
    },
    {
      "cell_type": "markdown",
      "metadata": {
        "id": "d789993e"
      },
      "source": [
        "## Part 1: Text Classification with RNN (24 points)"
      ],
      "id": "d789993e"
    },
    {
      "cell_type": "code",
      "execution_count": null,
      "metadata": {
        "colab": {
          "base_uri": "https://localhost:8080/"
        },
        "id": "92081dc6",
        "outputId": "ebc92339-717b-406c-f54e-f0772437c6e5",
        "scrolled": true
      },
      "outputs": [
        {
          "name": "stdout",
          "output_type": "stream",
          "text": [
            "120000\n",
            "(3, \"Wall St. Bears Claw Back Into the Black (Reuters) Reuters - Short-sellers, Wall Street's dwindling\\\\band of ultra-cynics, are seeing green again.\")\n"
          ]
        }
      ],
      "source": [
        "import math\n",
        "\n",
        "import torch\n",
        "import torch.nn as nn\n",
        "import torch.nn.functional as F\n",
        "\n",
        "\n",
        "\n",
        "from torchtext.datasets import AG_NEWS\n",
        "train_iter = AG_NEWS(split='train')\n",
        "\n",
        "\n",
        "\n",
        "\n",
        "print(len(train_iter))\n",
        "print(next(train_iter))"
      ],
      "id": "92081dc6"
    },
    {
      "cell_type": "markdown",
      "metadata": {
        "id": "28eb6bd7"
      },
      "source": [
        "### <font size='4' color='red'>Task 1.1: Implement a RNNCell (4 points)</font>"
      ],
      "id": "28eb6bd7"
    },
    {
      "cell_type": "code",
      "execution_count": null,
      "metadata": {
        "id": "2db54f12"
      },
      "outputs": [],
      "source": [
        "# Documentation of nn.Module https://pytorch.org/docs/stable/generated/torch.nn.Module.html#torch.nn.Module\n",
        "class RNNCell(torch.nn.Module):\n",
        "    \"\"\"\n",
        "    RNNCell is a single cell that takes x_t and h_{t_1} as input and outputs h_t.\n",
        "    \"\"\"\n",
        "    def __init__(self, input_dim: int, hidden_dim: int):\n",
        "        \"\"\"\n",
        "        Constructor of RNNCell.\n",
        "        \n",
        "        Inputs: \n",
        "        - input_dim: Dimension of the input x_t\n",
        "        - hidden_dim: Dimension of the hidden state h_{t-1} and h_t\n",
        "        \"\"\"\n",
        "        \n",
        "        # We always need to do this step to properly implement the constructor\n",
        "        super(RNNCell, self).__init__()\n",
        "        self.input_dim = input_dim\n",
        "        self.hidden_dim = hidden_dim\n",
        "        self.linear_x, self.linear_h, self.non_linear = None, None, None  \n",
        "        \n",
        "        ###########################################################################\n",
        "        # TODO: Define the linear transformation layers for x_t and h_{t-1} and   #\n",
        "        # the non-linear layer. You can use tanh here.                            #\n",
        "        ###########################################################################\n",
        "        \n",
        "        # input linear\n",
        "        self.linear_x = nn.Linear(input_dim, hidden_dim)\n",
        "        # tahn function\n",
        "        self.non_linear = torch.tanh\n",
        "        \n",
        "        # output dim \n",
        "        \n",
        "        self.linear_h = nn.Linear(hidden_dim, hidden_dim)\n",
        "        \n",
        "        \n",
        "        \n",
        "        \n",
        "        ###########################################################################\n",
        "        #                             END OF YOUR CODE                            #\n",
        "        ###########################################################################\n",
        "        \n",
        "    def forward(self, x_cur: torch.Tensor, h_prev: torch.Tensor):\n",
        "        \"\"\"\n",
        "        Compute h_t given x_t and h_{t-1}.\n",
        "        \n",
        "        Inputs:\n",
        "        - x_cur: x_t, a tensor with the same of BxC, where B is the batch size and \n",
        "          C is the channel dimension.\n",
        "        - h_prev: h_{t-1}, a tensor with the same of BxH, where H is the channel\n",
        "          dimension.\n",
        "        \"\"\"\n",
        "        h_cur = None\n",
        "        ###########################################################################\n",
        "        # TODO: Define the linear transformation layers for x_t and h_{t-1} and   #\n",
        "        # the non-linear layer.                                                   #\n",
        "        ###########################################################################\n",
        "        \n",
        "        ## plan is to first run the linear on x_cur\n",
        "\n",
        "        # print('size of linear')\n",
        "\n",
        "        # print(self.input_dim + self.hidden_dim, self.hidden_dim)\n",
        "\n",
        "        # x_cur = x_cur.to('cuda:0')\n",
        "        # h_prev = h_prev.to('cuda:0')\n",
        "\n",
        "\n",
        "        # stacked = torch.cat((x_cur, h_prev), 1)\n",
        "        # stacked = stacked.to('cuda:0')\n",
        "        x_cur = self.linear_x(x_cur)\n",
        "        \n",
        "        # print('before last lin')\n",
        "        h = self.linear_h(h_prev)\n",
        "\n",
        "        h_cur = self.non_linear(x_cur + h)\n",
        "        \n",
        "        \n",
        "        \n",
        "        ###########################################################################\n",
        "        #                             END OF YOUR CODE                            #\n",
        "        ###########################################################################\n",
        "        return h_cur"
      ],
      "id": "2db54f12"
    },
    {
      "cell_type": "code",
      "execution_count": null,
      "metadata": {
        "colab": {
          "base_uri": "https://localhost:8080/"
        },
        "id": "b62f7e2d",
        "outputId": "a248a378-03a6-409d-b92d-534d4e757f80"
      },
      "outputs": [
        {
          "name": "stdout",
          "output_type": "stream",
          "text": [
            "model no\n",
            "True\n",
            "torch.Size([2, 16])\n"
          ]
        }
      ],
      "source": [
        "# Let's run a sanity check of your model\n",
        "x = torch.randn((2, 8))\n",
        "x = x.to('cuda:0')\n",
        "h = torch.randn((2, 16))\n",
        "h = h.to('cuda:0')\n",
        "model = RNNCell(8, 16)\n",
        "model = model.to('cuda:0')\n",
        "print('model no')\n",
        "print(next(model.parameters()).is_cuda)\n",
        "y = model(x, h)\n",
        "assert len(y.shape) == 2 and y.shape[0] == 2 and y.shape[1] == 16\n",
        "print(y.shape)"
      ],
      "id": "b62f7e2d"
    },
    {
      "cell_type": "markdown",
      "metadata": {
        "id": "cb2ee43c"
      },
      "source": [
        "### <font size='4' color='red'>Task 1.2: Implement a single-layer (single-stack) RNN (5 points)</font>"
      ],
      "id": "cb2ee43c"
    },
    {
      "cell_type": "code",
      "execution_count": null,
      "metadata": {
        "id": "f0120521"
      },
      "outputs": [],
      "source": [
        "class RNN(torch.nn.Module):\n",
        "    \"\"\"\n",
        "    RNN is a single-layer (stack) RNN by connecting multiple RNNCell together in a single\n",
        "    direction, where the input sequence is processed from left to right.\n",
        "    \"\"\"\n",
        "    def __init__(self, input_dim: int, hidden_dim: int):\n",
        "        \"\"\"\n",
        "        Constructor of the RNN module.\n",
        "        \n",
        "        Inputs: \n",
        "        - input_dim: Dimension of the input x_t\n",
        "        - hidden_dim: Dimension of the hidden state h_{t-1} and h_t\n",
        "        \"\"\"\n",
        "        super(RNN, self).__init__()\n",
        "        self.input_dim = input_dim\n",
        "        self.hidden_dim = hidden_dim\n",
        "        \n",
        "        ###########################################################################\n",
        "        # TODO: Define the RNNCell.                                               #\n",
        "        ###########################################################################\n",
        "        self.rnnCell = RNNCell(input_dim, hidden_dim)\n",
        "        ###########################################################################\n",
        "        #                             END OF YOUR CODE                            #\n",
        "        ###########################################################################\n",
        "        \n",
        "    def forward(self, x: torch.Tensor):\n",
        "        \"\"\"\n",
        "        Compute the hidden representations for every token in the input sequence.\n",
        "        \n",
        "        Input:\n",
        "        - x: A tensor with the shape of BxLxC, where B is the batch size, L is the squence \n",
        "          length, and C is the channel dimmension\n",
        "          \n",
        "        Return:\n",
        "        - h: A tensor with the shape of BxLxH, where H is the hidden dimension of RNNCell\n",
        "        \"\"\"\n",
        "        b = x.shape[0]\n",
        "        seq_len = x.shape[1]\n",
        "        \n",
        "        # initialize the hidden dimension\n",
        "        init_h = x.new_zeros((b, self.hidden_dim))\n",
        "        \n",
        "        h = None\n",
        "        ###########################################################################\n",
        "        # TODO: Compute the hidden representation for every token in the input    #\n",
        "        # from left to right.\n",
        "        ###########################################################################\n",
        "        \n",
        "        ### we need a random first h_t \n",
        "        ## then we need to go around the batch size \n",
        "        ### we need to save the out\n",
        "        \n",
        "        \n",
        "        ### TODO: Check if this is the correct thing to do \n",
        "        # print('creating first h_prev')\n",
        "        # print(seq_len)\n",
        "        # print(self.hidden_dim)\n",
        "        # h_prev = torch.randn(seq_len, self.hidden_dim)\n",
        "        # h_prev = h_prev.to('cuda:0')\n",
        "        \n",
        "        stack = []\n",
        "        \n",
        "        for i in range(seq_len): ### this is the number of batches   \n",
        "\n",
        "            init_h = self.rnnCell.forward(x[:,i], init_h)\n",
        "\n",
        "            stack.append(init_h)\n",
        "\n",
        "        ###########################################################################\n",
        "        #                             END OF YOUR CODE                            #\n",
        "        ###########################################################################\n",
        "\n",
        "        return torch.stack(stack, 1)\n",
        "        "
      ],
      "id": "f0120521"
    },
    {
      "cell_type": "code",
      "execution_count": null,
      "metadata": {
        "colab": {
          "base_uri": "https://localhost:8080/"
        },
        "id": "dfb661d8",
        "outputId": "92527b85-e5aa-489b-a5e2-52dd48eacf74"
      },
      "outputs": [
        {
          "name": "stdout",
          "output_type": "stream",
          "text": [
            "torch.Size([2, 10, 16])\n"
          ]
        }
      ],
      "source": [
        "# Let's run a sanity check of your model\n",
        "x = torch.randn((2, 10, 8))\n",
        "model = RNN(8, 16)\n",
        "# model = model.to('cuda:0')\n",
        "y = model(x)\n",
        "assert len(y.shape) == 3\n",
        "for dim, dim_gt in zip(y.shape, [2, 10, 16]):\n",
        "    assert dim == dim_gt\n",
        "print(y.shape)"
      ],
      "id": "dfb661d8"
    },
    {
      "cell_type": "markdown",
      "metadata": {
        "id": "90f8ec47"
      },
      "source": [
        "### <font size='4' color='red'>Task 1.3: Implement a RNN-based text classifier (4 points)</font>"
      ],
      "id": "90f8ec47"
    },
    {
      "cell_type": "code",
      "execution_count": null,
      "metadata": {
        "id": "ed42889c"
      },
      "outputs": [],
      "source": [
        "from matplotlib.cbook import print_cycles\n",
        "# from _typeshed import OpenTextModeUpdating\n",
        "class RNNClassifier(nn.Module):\n",
        "    \"\"\"\n",
        "    A RNN-based classifier for text classification. It first converts tokens into word embeddings.\n",
        "    And then feeds the embeddings into a RNN, where the hidden representations of all tokens are\n",
        "    then averaged to get a single embedding of the sentence. It will be used as input to a linear\n",
        "    classifier.\n",
        "    \"\"\"\n",
        "    def __init__(self, \n",
        "            vocab_size: int, embed_dim: int, rnn_hidden_dim: int, num_class: int, pad_token: int\n",
        "        ):\n",
        "        \"\"\"\n",
        "        Constructor.\n",
        "        \n",
        "        Inputs:\n",
        "        - vocab_size: Vocabulary size, indicating how many tokens we have in total.\n",
        "        - embed_dim: The dimension of word embeddings\n",
        "        - rnn_hidden_dim: The hidden dimension of the RNN.\n",
        "        - num_class: Number of classes.\n",
        "        - pad_token: The index of the padding token.\n",
        "        \"\"\"\n",
        "        super(RNNClassifier, self).__init__()\n",
        "        \n",
        "        # word embedding layer\n",
        "        self.embedding = nn.Embedding(vocab_size, embed_dim, padding_idx=pad_token)\n",
        "        \n",
        "        self.rnn, self.fc = None, None\n",
        "        self.embed_dim = embed_dim\n",
        "        self.vocab_size = vocab_size\n",
        "        self.num_class = num_class\n",
        "        \n",
        "        ###########################################################################\n",
        "        # TODO: Define the RNN and the classification layer.                      #\n",
        "        ###########################################################################\n",
        "        self.rnn = RNN(embed_dim, rnn_hidden_dim)\n",
        "        self.linear = nn.Linear(rnn_hidden_dim, num_class)\n",
        "        self.softmax = nn.LogSoftmax(dim=1)\n",
        "        ###########################################################################\n",
        "        #                             END OF YOUR CODE                            #\n",
        "        ###########################################################################\n",
        "\n",
        "    def init_weights(self):\n",
        "        initrange = 0.5\n",
        "        self.embedding.weight.data.uniform_(-initrange, initrange)\n",
        "        self.fc.weight.data.uniform_(-initrange, initrange)\n",
        "        self.fc.bias.data.zero_()\n",
        "\n",
        "    def forward(self, text):\n",
        "        \"\"\"\n",
        "        Get classification scores (logits) of the input.\n",
        "        \n",
        "        Input:\n",
        "        - text: Tensor with the shape of BxLxC.\n",
        "        \n",
        "        Return:\n",
        "        - logits: Tensor with the shape of BxK, where K is the number of classes\n",
        "        \"\"\"\n",
        "        \n",
        "        # get word embeddings\n",
        "        embedded = self.embedding(text)\n",
        "        \n",
        "        logits = None\n",
        "        ###########################################################################\n",
        "        # TODO: Compute logits of the input.                                      #\n",
        "        ###########################################################################\n",
        "   \n",
        "        rnn_out = self.rnn(embedded)\n",
        "\n",
        "        linear_out = self.linear(rnn_out)\n",
        "        averaged = torch.mean(linear_out, 1)\n",
        "        logits = self.softmax(averaged)\n",
        "        ###########################################################################\n",
        "        #                             END OF YOUR CODE                            #\n",
        "        ###########################################################################\n",
        "        \n",
        "        return logits"
      ],
      "id": "ed42889c"
    },
    {
      "cell_type": "code",
      "execution_count": null,
      "metadata": {
        "colab": {
          "base_uri": "https://localhost:8080/"
        },
        "id": "ce2d2044",
        "outputId": "6c0a98fd-c637-433e-86e8-210da89a9d28"
      },
      "outputs": [
        {
          "name": "stdout",
          "output_type": "stream",
          "text": [
            "x.shape: torch.Size([2, 10])\n",
            "torch.Size([2, 3])\n",
            "3\n",
            "torch.Size([2, 3])\n",
            "torch.Size([2, 3]) cuda:0\n"
          ]
        }
      ],
      "source": [
        "# Let's run a sanity check of your model\n",
        "vocab_size = 10\n",
        "embed_dim = 16\n",
        "rnn_hidden_dim = 32\n",
        "num_class = 3\n",
        "\n",
        "x = torch.arange(vocab_size).view(1, -1)\n",
        "x = torch.cat((x, x), dim=0)\n",
        "print('x.shape: {}'.format(x.shape))\n",
        "model = RNNClassifier(vocab_size, embed_dim, rnn_hidden_dim, num_class, 0)\n",
        "model = model.to('cuda:0')\n",
        "x = x.to('cuda:0')\n",
        "y = model(x)\n",
        "print(y.shape)\n",
        "print(num_class)\n",
        "assert len(y.shape) == 2 and y.shape[0] == 2 and y.shape[1] == num_class\n",
        "print(y.shape)\n",
        "\n",
        "model = model.to('cuda:0')\n",
        "x = x.to('cuda:0')\n",
        "y = model(x)\n",
        "print(y.shape, y.device)"
      ],
      "id": "ce2d2044"
    },
    {
      "cell_type": "code",
      "execution_count": null,
      "metadata": {
        "id": "UGNh_vFulay6"
      },
      "outputs": [],
      "source": [
        ""
      ],
      "id": "UGNh_vFulay6"
    },
    {
      "cell_type": "markdown",
      "metadata": {
        "id": "612890ad"
      },
      "source": [
        "### Set up data related stuff"
      ],
      "id": "612890ad"
    },
    {
      "cell_type": "code",
      "execution_count": null,
      "metadata": {
        "id": "c92ea24e"
      },
      "outputs": [],
      "source": [
        "# check here for details https://github.com/pytorch/text/blob/main/torchtext/data/utils.py#L52-#L166\n",
        "from torchtext.data.utils import get_tokenizer\n",
        "# check here for details https://github.com/pytorch/text/blob/main/torchtext/vocab/vocab_factory.py#L65-L113\n",
        "from torchtext.vocab import build_vocab_from_iterator\n",
        "\n",
        "# A tokenizer splits a input setence into a set of tokens, including those puncuation\n",
        "# For example\n",
        "# >>> tokens = tokenizer(\"You can now install TorchText using pip!\")\n",
        "# >>> tokens\n",
        "# >>> ['you', 'can', 'now', 'install', 'torchtext', 'using', 'pip', '!']\n",
        "tokenizer = get_tokenizer('basic_english')\n",
        "\n",
        "train_iter = AG_NEWS(split='train')\n",
        "\n",
        "def yield_tokens(data_iter):\n",
        "    for _, text in data_iter:\n",
        "        yield tokenizer(text)\n",
        "\n",
        "# Creates a vocab object which maps tokens to indices\n",
        "# Check here for details https://github.com/pytorch/text/blob/main/torchtext/vocab/vocab.py\n",
        "vocab = build_vocab_from_iterator(yield_tokens(train_iter), specials=[\"<unk>\"])\n",
        "\n",
        "# The specified token will be returned when a out-of-vocabulary token is queried.\n",
        "vocab.set_default_index(vocab[\"<unk>\"])\n",
        "\n",
        "text_pipeline = lambda x: vocab(tokenizer(x))\n",
        "label_pipeline = lambda x: int(x) - 1\n",
        "\n",
        "# The padding token we need to use\n",
        "# The returned indices are always in an array\n",
        "PAD_TOKEN = vocab(tokenizer('<pad>'))\n",
        "assert len(PAD_TOKEN) == 1\n",
        "PAD_TOKEN = PAD_TOKEN[0]"
      ],
      "id": "c92ea24e"
    },
    {
      "cell_type": "markdown",
      "metadata": {
        "id": "0f13c252"
      },
      "source": [
        "### <font size='4' color='red'>Task 1.4: Collate Batched Data with Data Loaders (4 points)</font>"
      ],
      "id": "0f13c252"
    },
    {
      "cell_type": "code",
      "execution_count": null,
      "metadata": {
        "colab": {
          "base_uri": "https://localhost:8080/"
        },
        "id": "bdd006c5",
        "outputId": "5f5a61fb-c32b-4e8b-f4dc-40830a05a515"
      },
      "outputs": [
        {
          "name": "stdout",
          "output_type": "stream",
          "text": [
            "label.shape: torch.Size([8])\n",
            "label: tensor([2, 2, 2, 2, 2, 2, 2, 2])\n",
            "data.shape: torch.Size([8, 49])\n"
          ]
        }
      ],
      "source": [
        "# Documentation of DataLoader https://pytorch.org/docs/stable/data.html#torch.utils.data.DataLoader\n",
        "from torch.utils.data import DataLoader  \n",
        "\n",
        "# Merges a list of samples to form a mini-batch of Tensor(s)\n",
        "def collate_batch(batch):\n",
        "    \"\"\"\n",
        "    Input: \n",
        "    - batch: A list of data in a mini batch, where the length denotes the batch size. \n",
        "      The actual context depends on a particular dataset. In our case, each position \n",
        "      contains a label and a Tensor (tokens in a sentence).\n",
        "      \n",
        "    Returns:\n",
        "    - batched_label: A Tensor with the shape of (B,)\n",
        "    - batched_text: A Tensor with the shape of (B, L, C), where L is the sequence length\n",
        "      and C is the channeld dimension\n",
        "    \"\"\"\n",
        "    label_list, text_list, text_len_list = [], [], []\n",
        "    for (_label, _text) in batch:\n",
        "        label_list.append(label_pipeline(_label))\n",
        "        processed_text = torch.tensor(text_pipeline(_text), dtype=torch.int64)\n",
        "        text_list.append(processed_text)\n",
        "\n",
        "        text_len_list.append(processed_text.size(0))\n",
        "    batched_label, batched_text = None, None\n",
        "    ###########################################################################\n",
        "    # TODO: Pad the text tensor in the mini batch so that they have the same  #\n",
        "    # length. Specifically, you need to calculate the maximum length in the   #\n",
        "    # batch and then add the token PAD_TOKEN to the end of those              #\n",
        "    # shorter sentences.                                                      #\n",
        "    ###########################################################################\n",
        "    # TODO: Calculate the mini batch max length\n",
        "\n",
        "    ## add padded token on the end of each other one \n",
        "\n",
        "\n",
        "\n",
        "\n",
        "\n",
        "\n",
        "    batched_label = torch.Tensor(label_list)\n",
        "\n",
        "\n",
        "    #### Fix The for\n",
        "    # batched_text = []\n",
        "    # # batched_label = batched_label.to('cuda:0')\n",
        "    # for text in range(len(text_len_list)):\n",
        "    #   curr = text_len_list[text]\n",
        "\n",
        "    #   diff = max_len - curr\n",
        "\n",
        "    #   padding = [PAD_TOKEN]*diff\n",
        "\n",
        "    #   created = torch.tensor(padding)\n",
        "\n",
        "\n",
        "    #   tense = torch.cat((text_list[text], created), 0)\n",
        "\n",
        "    #   batched_text.append(tense)\n",
        "    # batched_text = torch.cat(batched_text)\n",
        "\n",
        "    batched_text = torch.nn.utils.rnn.pad_sequence(text_list)\n",
        "\n",
        "    # print('*'*8)\n",
        "\n",
        "    # print(batched_text.size())\n",
        "\n",
        "    first, second = batched_text.size()\n",
        "\n",
        "    batched_text = batched_text.transpose(1,0)\n",
        "\n",
        "    ###########################################################################\n",
        "    #                             END OF YOUR CODE                            #\n",
        "    ###########################################################################\n",
        "    \n",
        "    return batched_label.long(), batched_text.long()\n",
        "\n",
        "# Now, let's check what the batched data looks like\n",
        "train_iter = AG_NEWS(split='train')\n",
        "dataloader = DataLoader(train_iter, batch_size=8, shuffle=False, collate_fn=collate_batch)\n",
        "for idx, (label, data) in enumerate(dataloader):\n",
        "    if idx > 0:\n",
        "        break\n",
        "    print('label.shape: {}'.format(label.shape))\n",
        "    print('label: {}'.format(label))\n",
        "    print('data.shape: {}'.format(data.shape))"
      ],
      "id": "bdd006c5"
    },
    {
      "cell_type": "markdown",
      "metadata": {
        "id": "a5c3571e"
      },
      "source": [
        "### <font size='4' color='red'>Task 1.5: Functions of training for a single epoch and evaluation (4 points)</font>"
      ],
      "id": "a5c3571e"
    },
    {
      "cell_type": "code",
      "execution_count": null,
      "metadata": {
        "id": "b5dc8d4a"
      },
      "outputs": [],
      "source": [
        "import time\n",
        "\n",
        "def train(model, dataloader, loss_func, device, grad_norm_clip):\n",
        "    model.train()\n",
        "\n",
        "    total_acc, total_count = 0, 0\n",
        "    log_interval = 500\n",
        "    start_time = time.time()\n",
        "\n",
        "    for idx, (label, text) in enumerate(dataloader):\n",
        "        label = label.to(device)\n",
        "        text = text.to(device)\n",
        "        optimizer.zero_grad()\n",
        "        \n",
        "        logits = None\n",
        "        ###########################################################################\n",
        "        # TODO: compute the logits of the input, get the loss, and do the         #\n",
        "        # gradient backpropagation.\n",
        "        ###########################################################################\n",
        "        # gradient\n",
        "        \n",
        "        logits = model(text)\n",
        "\n",
        "        loss = loss_func(logits, label)\n",
        "        loss.backward()\n",
        "        # optimizer.step()\n",
        "\n",
        "\n",
        "\n",
        "\n",
        "\n",
        "        ###########################################################################\n",
        "        #                             END OF YOUR CODE                            #\n",
        "        ###########################################################################\n",
        "        \n",
        "        torch.nn.utils.clip_grad_norm_(model.parameters(), grad_norm_clip)\n",
        "        optimizer.step()\n",
        "        total_acc += (logits.argmax(1) == label).sum().item()\n",
        "        total_count += label.size(0)\n",
        "        if idx % log_interval == 0 and idx > 0:\n",
        "            elapsed = time.time() - start_time\n",
        "            print('| epoch {:3d} | {:5d}/{:5d} batches '\n",
        "                  '| accuracy {:8.3f}'.format(epoch, idx, len(dataloader),\n",
        "                                              total_acc/total_count))\n",
        "            total_acc, total_count = 0, 0\n",
        "            start_time = time.time()\n",
        "\n",
        "def evaluate(model, dataloader, loss_func, device):\n",
        "    model.eval()\n",
        "    total_acc, total_count = 0, 0\n",
        "\n",
        "    with torch.no_grad():\n",
        "        for idx, (label, text) in enumerate(dataloader):\n",
        "            label = label.to(device)\n",
        "            text = text.to(device)\n",
        "            \n",
        "            ###########################################################################\n",
        "            # TODO: compute the logits of the input, get the loss.                    #\n",
        "            ###########################################################################\n",
        "            \n",
        "\n",
        "            logits = model(text)\n",
        "\n",
        "            loss = loss_func(logits, label)\n",
        "\n",
        "\n",
        "            ###########################################################################\n",
        "            #                             END OF YOUR CODE                            #\n",
        "            ###########################################################################\n",
        "            \n",
        "            total_acc += (logits.argmax(1) == label).sum().item()\n",
        "            total_count += label.size(0)\n",
        "    return total_acc/total_count"
      ],
      "id": "b5dc8d4a"
    },
    {
      "cell_type": "markdown",
      "metadata": {
        "id": "e249cd2c"
      },
      "source": [
        "### <font size='4' color='red'>Task 1.6: Define the model and loss function to train the model (3 points)</font>"
      ],
      "id": "e249cd2c"
    },
    {
      "cell_type": "code",
      "execution_count": null,
      "metadata": {
        "colab": {
          "base_uri": "https://localhost:8080/"
        },
        "id": "0112151f",
        "outputId": "2e2da2da-a771-42ae-80c6-d5a60d6680d2"
      },
      "outputs": [
        {
          "name": "stdout",
          "output_type": "stream",
          "text": [
            "| epoch   1 |   500/ 1782 batches | accuracy    0.511\n",
            "| epoch   1 |  1000/ 1782 batches | accuracy    0.739\n",
            "| epoch   1 |  1500/ 1782 batches | accuracy    0.807\n",
            "-----------------------------------------------------------\n",
            "| end of epoch   1 | time: 75.60s | valid accuracy    0.826 \n",
            "-----------------------------------------------------------\n",
            "| epoch   2 |   500/ 1782 batches | accuracy    0.856\n",
            "| epoch   2 |  1000/ 1782 batches | accuracy    0.862\n",
            "| epoch   2 |  1500/ 1782 batches | accuracy    0.875\n",
            "-----------------------------------------------------------\n",
            "| end of epoch   2 | time: 62.78s | valid accuracy    0.869 \n",
            "-----------------------------------------------------------\n",
            "| epoch   3 |   500/ 1782 batches | accuracy    0.891\n",
            "| epoch   3 |  1000/ 1782 batches | accuracy    0.898\n",
            "| epoch   3 |  1500/ 1782 batches | accuracy    0.904\n",
            "-----------------------------------------------------------\n",
            "| end of epoch   3 | time: 68.73s | valid accuracy    0.880 \n",
            "-----------------------------------------------------------\n"
          ]
        }
      ],
      "source": [
        "from torch.utils.data.dataset import random_split\n",
        "from torchtext.data.functional import to_map_style_dataset\n",
        "\n",
        "assert torch.cuda.is_available()\n",
        "# device = 'cuda'\n",
        "device = torch.device(\"cuda\" if torch.cuda.is_available() else \"cpu\")\n",
        "\n",
        "# Hyper parameters\n",
        "epochs = 3 # epoch\n",
        "lr = 0.0005 # learning rate\n",
        "batch_size = 64 # batch size for training\n",
        "word_embed_dim = 64\n",
        "rnn_hidden_dim = 96\n",
        "\n",
        "train_iter = AG_NEWS(split='train')\n",
        "num_class = len(set([label for (label, text) in train_iter]))\n",
        "vocab_size = len(vocab)\n",
        "\n",
        "model, loss_func = None, None\n",
        "###########################################################################\n",
        "# TODO: Deinfe the classifier and loss function.\n",
        "###########################################################################\n",
        "model = RNNClassifier(vocab_size, word_embed_dim, rnn_hidden_dim, num_class, PAD_TOKEN)\n",
        "\n",
        "\n",
        "\n",
        "loss_func = nn.CrossEntropyLoss()\n",
        "\n",
        "###########################################################################\n",
        "#                             END OF YOUR CODE                            #\n",
        "###########################################################################\n",
        "\n",
        "# copy the model to the specified device (GPU)\n",
        "model = model.to(device)\n",
        "        \n",
        "optimizer = torch.optim.AdamW(model.parameters(), lr=lr)\n",
        "scheduler = torch.optim.lr_scheduler.CosineAnnealingLR(optimizer, epochs, 1e-8)\n",
        "total_accu = None\n",
        "train_iter, test_iter = AG_NEWS()\n",
        "train_dataset = to_map_style_dataset(train_iter)\n",
        "test_dataset = to_map_style_dataset(test_iter)\n",
        "num_train = int(len(train_dataset) * 0.95)\n",
        "split_train_, split_valid_ = random_split(\n",
        "    train_dataset, \n",
        "    [num_train, len(train_dataset) - num_train]\n",
        ")\n",
        "\n",
        "train_dataloader = DataLoader(\n",
        "    split_train_, batch_size=batch_size,\n",
        "    shuffle=True, collate_fn=collate_batch\n",
        ")\n",
        "\n",
        "valid_dataloader = DataLoader(\n",
        "    split_valid_, batch_size=batch_size, \n",
        "    shuffle=False, collate_fn=collate_batch\n",
        ")\n",
        "\n",
        "test_dataloader = DataLoader(\n",
        "    test_dataset, batch_size=batch_size,\n",
        "    shuffle=False, collate_fn=collate_batch\n",
        ")\n",
        "\n",
        "# You should be able get a validation accuracy around 87%\n",
        "for epoch in range(1, epochs + 1):\n",
        "    epoch_start_time = time.time()\n",
        "    train(model, train_dataloader, loss_func, device, 1)\n",
        "    accu_val = evaluate(model, valid_dataloader, loss_func, device)\n",
        "    if total_accu is not None and total_accu > accu_val:\n",
        "        scheduler.step()\n",
        "    else:\n",
        "        total_accu = accu_val\n",
        "    print('-' * 59)\n",
        "    print('| end of epoch {:3d} | time: {:5.2f}s | '\n",
        "          'valid accuracy {:8.3f} '.format(epoch,\n",
        "                                           time.time() - epoch_start_time,\n",
        "                                           accu_val))\n",
        "    print('-' * 59)"
      ],
      "id": "0112151f"
    },
    {
      "cell_type": "markdown",
      "metadata": {
        "id": "e3582578"
      },
      "source": [
        "## Part 2: Text Classification with Transformer Encoder (41 points)"
      ],
      "id": "e3582578"
    },
    {
      "cell_type": "markdown",
      "metadata": {
        "id": "4db1190d"
      },
      "source": [
        "### <font size='4' color='red'>Task 2.1: Implement the multi-head attention module (no for loops allowed, 10 points)</font>"
      ],
      "id": "4db1190d"
    },
    {
      "cell_type": "code",
      "execution_count": null,
      "metadata": {
        "id": "7d932295"
      },
      "outputs": [],
      "source": [
        "class MultiHeadAttention(nn.Module):\n",
        "    \"\"\"\n",
        "    A module that computes multi-head attention given query, key, and value tensors.\n",
        "    \"\"\"\n",
        "    def __init__(self, input_dim: int, num_heads: int):\n",
        "        \"\"\"\n",
        "        Constructor.\n",
        "        \n",
        "        Inputs:\n",
        "        - input_dim: Dimension of the input query, key, and value. Here we assume they all have\n",
        "          the same dimensions. But they could have different dimensions in other problems.\n",
        "        - num_heads: Number of attention heads\n",
        "        \"\"\"\n",
        "        super(MultiHeadAttention, self).__init__()\n",
        "        \n",
        "        assert input_dim % num_heads == 0\n",
        "        \n",
        "        self.input_dim = input_dim\n",
        "        self.num_heads = num_heads\n",
        "        self.dim_per_head = input_dim // num_heads\n",
        "        \n",
        "        ###########################################################################\n",
        "        # TODO: Define the linear transformation layers for key, value, and query.#\n",
        "        # Also define the output layer.\n",
        "        ###########################################################################\n",
        "        self.keyTransform = nn.Linear(self.dim_per_head, self.dim_per_head)\n",
        "        self.valueTransform = nn.Linear(self.dim_per_head, self.dim_per_head)\n",
        "        self.queryTransform = nn.Linear(self.dim_per_head, self.dim_per_head)\n",
        "\n",
        "        self.ouput = nn.Linear(self.num_heads*self.dim_per_head, self.input_dim)\n",
        "        ###########################################################################\n",
        "        #                             END OF YOUR CODE                            #\n",
        "        ###########################################################################\n",
        "        \n",
        "        \n",
        "    def forward(self, query: torch.Tensor, key: torch.Tensor, value: torch.Tensor, mask: torch.Tensor=None):\n",
        "        \"\"\"\n",
        "        Compute the attended feature representations.\n",
        "        \n",
        "        Inputs:\n",
        "        - query: Tensor of the shape BxLxC, where B is the batch size, L is the sequence length,\n",
        "          and C is the channel dimension\n",
        "        - key: Tensor of the shape BxLxC\n",
        "        - value: Tensor of the shape BxLxC\n",
        "        - mask: Tensor indicating where the attention should *not* be performed\n",
        "        \"\"\"\n",
        "        b = query.shape[0]        \n",
        "        \n",
        "        dot_prod_scores = None\n",
        "        ###########################################################################\n",
        "        # TODO: Compute the scores based on dot product between transformed query,#\n",
        "        # key, and value. You may find torch.matmul helpful, whose documentation  #\n",
        "        # can be found at                                                         #\n",
        "        # https://pytorch.org/docs/stable/generated/torch.matmul.html#torch.matmul#\n",
        "        # Remember to devide the doct product similarity scores by square root of #\n",
        "        # the channel dimension per head.   \n",
        "        #                                                                         #\n",
        "        # Since no for loops are allowed here, think of how to use tensor reshape #\n",
        "        # to process multiple attention heads at the same time.                   #\n",
        "        ###########################################################################\n",
        "        \n",
        "\n",
        "\n",
        "        batch, seq, _ = key.size()\n",
        "\n",
        "        \n",
        "        key = key.reshape(batch,seq, self.num_heads, self.dim_per_head) \n",
        "        keyT = self.keyTransform(key)\n",
        "\n",
        "    \n",
        "        query = query.reshape(batch, seq, self.num_heads, self.dim_per_head)\n",
        "        queryT = self.queryTransform(query)\n",
        "        value = value.reshape(batch, seq, self.num_heads, self.dim_per_head)\n",
        "        valueT = self.valueTransform(value)\n",
        "\n",
        "\n",
        "        ## need to reshape / split into smaller dimensions\n",
        "\n",
        "        keyT = keyT.transpose(1,2)\n",
        "        queryT = queryT.transpose(1,2)\n",
        "        queryT = queryT.transpose(-2, -1)\n",
        "        valueT = valueT.transpose(1,2)\n",
        "\n",
        "        kQ = torch.matmul(keyT, queryT)\n",
        "\n",
        "        dot_prod_scores = kQ / math.sqrt(self.dim_per_head)\n",
        "\n",
        "\n",
        "\n",
        "\n",
        "        ###########################################################################\n",
        "        #                             END OF YOUR CODE                            #\n",
        "        ###########################################################################\n",
        "        \n",
        "        if mask is not None:\n",
        "\n",
        "            # We simply set the similarity scores to be near zero for the positions\n",
        "            # where the attention should not be done. Think of why we do this.\n",
        "            dot_prod_scores = dot_prod_scores.masked_fill(mask == 0, -1e9)\n",
        "\n",
        "        soft = torch.nn.functional.softmax(dot_prod_scores, dim=-1)\n",
        "\n",
        "        dot_prod_scores = torch.matmul(soft, valueT)\n",
        "        \n",
        "        out = None\n",
        "        ###########################################################################\n",
        "        # TODO: Compute the attention scores, which are then used to modulate the #\n",
        "        # value tensor. Finally concate the attended tensors from multiple heads  #\n",
        "        # and feed it into the output layer. You may still find torch.matmul      #\n",
        "        # helpful.                                                                #\n",
        "        #                                                                         #\n",
        "        # Again, think of how to use reshaping tensor to do the concatenation.    #\n",
        "        ###########################################################################\n",
        "        \n",
        "\n",
        "        ### now I need to concat scores\n",
        "\n",
        "        concat = dot_prod_scores.transpose(1,2).contiguous().view(batch, seq, \n",
        "                                                                  self.dim_per_head * self.num_heads)\n",
        "\n",
        "\n",
        "      \n",
        "        out = self.ouput(concat)\n",
        "\n",
        "        ###########################################################################\n",
        "        #                             END OF YOUR CODE                            #\n",
        "        ###########################################################################\n",
        "        \n",
        "        return out"
      ],
      "id": "7d932295"
    },
    {
      "cell_type": "code",
      "execution_count": null,
      "metadata": {
        "colab": {
          "base_uri": "https://localhost:8080/"
        },
        "id": "c5bd2c45",
        "outputId": "2db5086b-7500-4caf-dafe-aaeddfbd6ca7"
      },
      "outputs": [
        {
          "name": "stdout",
          "output_type": "stream",
          "text": [
            "torch.Size([2, 10, 8])\n"
          ]
        }
      ],
      "source": [
        "x = torch.randn((2, 10, 8))\n",
        "mask = torch.randn((2, 10)) > 0.5\n",
        "mask = mask.unsqueeze(1).unsqueeze(-1)\n",
        "num_heads = 4\n",
        "model = MultiHeadAttention(8, num_heads)\n",
        "y = model(x, x, x, mask)\n",
        "assert len(y.shape) == len(x.shape)\n",
        "for dim_x, dim_y in zip(x.shape, y.shape):\n",
        "    assert dim_x == dim_y\n",
        "print(y.shape)"
      ],
      "id": "c5bd2c45"
    },
    {
      "cell_type": "markdown",
      "metadata": {
        "id": "02379104"
      },
      "source": [
        "### <font size='4' color='red'>Task 2.2: Implement a Feedforward Network (3 points)</font>"
      ],
      "id": "02379104"
    },
    {
      "cell_type": "code",
      "execution_count": null,
      "metadata": {
        "id": "5b7083ff"
      },
      "outputs": [],
      "source": [
        "class FeedForwardNetwork(nn.Module):\n",
        "    \"\"\"\n",
        "    A simple feedforward network. Essentially, it is a two-layer fully-connected\n",
        "    neural network.\n",
        "    \"\"\"\n",
        "    def __init__(self, input_dim, ff_dim, dropout):\n",
        "        \"\"\"\n",
        "        Inputs:\n",
        "        - input_dim: Input dimension\n",
        "        - ff_dim: Hidden dimension\n",
        "        \"\"\"\n",
        "        super(FeedForwardNetwork, self).__init__()\n",
        "        \n",
        "        ###########################################################################\n",
        "        # TODO: Define the two linear layers and a non-linear one.\n",
        "        ###########################################################################\n",
        "        self.linear1 = nn.Linear(input_dim, ff_dim)\n",
        "        self.linear2 = nn.Linear(ff_dim, input_dim)\n",
        "        self.nonlinear = nn.Dropout(dropout)\n",
        "        ###########################################################################\n",
        "        #                             END OF YOUR CODE                            #\n",
        "        ###########################################################################\n",
        "        \n",
        "    def forward(self, x: torch.Tensor):\n",
        "        \"\"\"\n",
        "        Input:\n",
        "        - x: Tensor of the shape BxLxC, where B is the batch size, L is the sequence length,\n",
        "         and C is the channel dimension\n",
        "          \n",
        "        Return:\n",
        "        - y: Tensor of the shape BxLxC\n",
        "        \"\"\"\n",
        "        \n",
        "        y = None\n",
        "        ###########################################################################\n",
        "        # TODO: Process the input.                                                #\n",
        "        ###########################################################################\n",
        "        x = self.linear1(x)\n",
        "        x = self.nonlinear(x)\n",
        "        y = self.linear2(x)\n",
        "        ###########################################################################\n",
        "        #                             END OF YOUR CODE                            #\n",
        "        ###########################################################################\n",
        "        \n",
        "        return y\n",
        "        "
      ],
      "id": "5b7083ff"
    },
    {
      "cell_type": "code",
      "execution_count": null,
      "metadata": {
        "colab": {
          "base_uri": "https://localhost:8080/"
        },
        "id": "1671c24f",
        "outputId": "08ccf407-6c8e-42bb-9ae2-ceaec285e022"
      },
      "outputs": [
        {
          "name": "stdout",
          "output_type": "stream",
          "text": [
            "torch.Size([2, 10, 8])\n"
          ]
        }
      ],
      "source": [
        "x = torch.randn((2, 10, 8))\n",
        "ff_dim = 4\n",
        "model = FeedForwardNetwork(8, ff_dim, 0.1)\n",
        "y = model(x)\n",
        "assert len(x.shape) == len(y.shape)\n",
        "for dim_x, dim_y in zip(x.shape, y.shape):\n",
        "    assert dim_x == dim_y\n",
        "print(y.shape)"
      ],
      "id": "1671c24f"
    },
    {
      "cell_type": "markdown",
      "metadata": {
        "id": "daa64217"
      },
      "source": [
        "### <font size='4' color='red'>Task 2.3: Implement a Single Transformer Encoder Cell (8 points)</font>"
      ],
      "id": "daa64217"
    },
    {
      "cell_type": "code",
      "execution_count": null,
      "metadata": {
        "id": "c5aca2a1"
      },
      "outputs": [],
      "source": [
        "class TransformerEncoderCell(nn.Module):\n",
        "    \"\"\"\n",
        "    A single cell (unit) for the Transformer encoder.\n",
        "    \"\"\"\n",
        "    def __init__(self, input_dim: int, num_heads: int, ff_dim: int, dropout: float):\n",
        "        \"\"\"\n",
        "        Inputs:\n",
        "        - input_dim: Input dimension for each token in a sequence\n",
        "        - num_heads: Number of attention heads in a multi-head attention module\n",
        "        - ff_dim: The hidden dimension for a feedforward network\n",
        "        - dropout: Dropout ratio for the output of the multi-head attention and feedforward\n",
        "          modules.\n",
        "        \"\"\"\n",
        "        super(TransformerEncoderCell, self).__init__()\n",
        "        \n",
        "        ###########################################################################\n",
        "        # TODO: A single Transformer encoder cell consists of \n",
        "        # 1. A multi-head attention module\n",
        "        # 2. Followed by dropout\n",
        "        # 3. Followed by layer norm (check nn.LayerNorm)\n",
        "        # https://pytorch.org/docs/stable/generated/torch.nn.LayerNorm.html#torch.nn.LayerNorm\n",
        "        #                                                                         #\n",
        "        # At the same time, it also has\n",
        "        # 1. A feedforward network\n",
        "        # 2. Followed by dropout\n",
        "        # 3. Followed by layer norm\n",
        "        ###########################################################################\n",
        "        ### multi head\n",
        "\n",
        "          # def __init__(self, input_dim: int, num_heads: int):\n",
        "\n",
        "        self.multiHead = MultiHeadAttention(input_dim, num_heads)\n",
        "        #### Dropout\n",
        "        self.dropout1 = nn.Dropout(dropout)\n",
        "        ### Layer Norm\n",
        "        self.layerNorm1 = nn.LayerNorm(input_dim)\n",
        "\n",
        "        ### Feedforward\n",
        "\n",
        "        self.feedForward = FeedForwardNetwork(input_dim, ff_dim, dropout)\n",
        "        ### Dropout\n",
        "\n",
        "        self.dropout2 = nn.Dropout(dropout)\n",
        "\n",
        "        ### layer Norm\n",
        "\n",
        "        self.layerNorm2 = nn.LayerNorm(input_dim)\n",
        "        ###########################################################################\n",
        "        #                             END OF YOUR CODE                            #\n",
        "        ###########################################################################\n",
        "        \n",
        "    def forward(self, x: torch.Tensor, mask: torch.Tensor=None):\n",
        "        \"\"\"\n",
        "        Inputs:\n",
        "        - x: Tensor of the shape BxLxC, where B is the batch size, L is the sequence length,\n",
        "          and C is the channel dimension\n",
        "        - mask: Tensor for multi-head attention\n",
        "        \"\"\"\n",
        "        \n",
        "        y = None\n",
        "        ###########################################################################\n",
        "        # TODO: Get the output of the multi-head attention part (with dropout     #\n",
        "        # and layer norm), which is used as input to the feedforward network (    #\n",
        "        # again, followed by dropout and layer norm).                             #\n",
        "        #                                                                         #\n",
        "        # Don't forget the residual connections for both parts.                   #\n",
        "        ###########################################################################\n",
        "        x_layered = self.layerNorm1(x)\n",
        "        x_head = self.multiHead(x_layered, x_layered, x_layered, mask)\n",
        "        \n",
        "        # adding risidual\n",
        "        x = x + self.dropout1(x_head)\n",
        "\n",
        "        fed = self.feedForward(x)\n",
        "\n",
        "        fedNorm = self.layerNorm2(fed)\n",
        "\n",
        "        y = self.dropout2(fedNorm)\n",
        "\n",
        "        ###########################################################################\n",
        "        #                             END OF YOUR CODE                            #\n",
        "        ###########################################################################\n",
        "        \n",
        "        return y"
      ],
      "id": "c5aca2a1"
    },
    {
      "cell_type": "code",
      "execution_count": null,
      "metadata": {
        "colab": {
          "base_uri": "https://localhost:8080/"
        },
        "id": "77e4fcff",
        "outputId": "dd5d0a9b-9055-4952-a5d9-8bc75868dbd6"
      },
      "outputs": [
        {
          "name": "stdout",
          "output_type": "stream",
          "text": [
            "torch.Size([2, 10, 8])\n"
          ]
        }
      ],
      "source": [
        "x = torch.randn((2, 10, 8))\n",
        "mask = torch.randn((2, 10)) > 0.5\n",
        "mask = mask.unsqueeze(1).unsqueeze(-1)\n",
        "num_heads = 4\n",
        "model = TransformerEncoderCell(8, num_heads, 32, 0.1)\n",
        "y = model(x, mask)\n",
        "assert len(x.shape) == len(y.shape)\n",
        "for dim_x, dim_y in zip(x.shape, y.shape):\n",
        "    assert dim_x == dim_y\n",
        "print(y.shape)"
      ],
      "id": "77e4fcff"
    },
    {
      "cell_type": "markdown",
      "metadata": {
        "id": "b0944cd8"
      },
      "source": [
        "### <font size='4' color='red'>Task 2.4: Implement Transformer Encoder (5 points)</font>"
      ],
      "id": "b0944cd8"
    },
    {
      "cell_type": "code",
      "execution_count": null,
      "metadata": {
        "id": "f72b398a"
      },
      "outputs": [],
      "source": [
        "class TransformerEncoder(nn.Module):\n",
        "    \"\"\"\n",
        "    A full encoder consisting of a set of TransformerEncoderCell.\n",
        "    \"\"\"\n",
        "    def __init__(self, input_dim: int, num_heads: int, ff_dim: int, num_cells: int, dropout: float=0.1):\n",
        "        \"\"\"\n",
        "        Inputs:\n",
        "        - input_dim: Input dimension for each token in a sequence\n",
        "        - num_heads: Number of attention heads in a multi-head attention module\n",
        "        - ff_dim: The hidden dimension for a feedforward network\n",
        "        - num_cells: Number of TransformerEncoderCells\n",
        "        - dropout: Dropout ratio for the output of the multi-head attention and feedforward\n",
        "          modules.\n",
        "        \"\"\"\n",
        "        super(TransformerEncoder, self).__init__()\n",
        "        \n",
        "        self.norm = None\n",
        "        ###########################################################################\n",
        "        # TODO: Construct a nn.ModuleList to store a stack of                     #\n",
        "        # TranformerEncoderCells. Check the documentation here of how to use it   #\n",
        "        # https://pytorch.org/docs/stable/generated/torch.nn.ModuleList.html#torch.nn.ModuleList\n",
        "        \n",
        "        # At the same time, define a layer normalization layer to process the     #\n",
        "        # output of the entire encoder.                                           #\n",
        "        ###########################################################################\n",
        "        \n",
        "        self.transformerCell = TransformerEncoderCell(input_dim, \n",
        "                                                      num_heads,\n",
        "                                                      ff_dim, \n",
        "                                                      dropout)\n",
        "        \n",
        "        layers = []\n",
        "\n",
        "        for i in range(num_cells):\n",
        "          layers.append(self.transformerCell)\n",
        "\n",
        "        self.layers = nn.ModuleList(layers)\n",
        "\n",
        "        self.norm = nn.LayerNorm(input_dim)\n",
        "\n",
        "        ###########################################################################\n",
        "        #                             END OF YOUR CODE                            #\n",
        "        ###########################################################################\n",
        "        \n",
        "    def forward(self, x: torch.Tensor, mask: torch.Tensor=None):\n",
        "        \"\"\"\n",
        "        Inputs:\n",
        "        - x: Tensor of the shape BxLxC, where B is the batch size, L is the sequence length,\n",
        "          and C is the channel dimension\n",
        "        - mask: Tensor for multi-head attention\n",
        "        \n",
        "        Return:\n",
        "        - y: Tensor of the shape of BxLxC, which is the normalized output of the encoder\n",
        "        \"\"\"\n",
        "        \n",
        "        y = None\n",
        "        ###########################################################################\n",
        "        # TODO: Feed x into the stack of TransformerEncoderCells and then         #\n",
        "        # normalize the output with layer norm.                                   #\n",
        "        ###########################################################################\n",
        "        x_feed = x\n",
        "\n",
        "        for i in self.layers:\n",
        "          x_feed = i(x_feed)\n",
        "\n",
        "        y = self.norm(x_feed)\n",
        "        ###########################################################################\n",
        "        #                             END OF YOUR CODE                            #\n",
        "        ###########################################################################\n",
        "        \n",
        "        return y\n",
        "        "
      ],
      "id": "f72b398a"
    },
    {
      "cell_type": "code",
      "execution_count": null,
      "metadata": {
        "colab": {
          "base_uri": "https://localhost:8080/"
        },
        "id": "64ddad9c",
        "outputId": "098bb05c-bf1a-4344-b34d-2e993f634e7b"
      },
      "outputs": [
        {
          "name": "stdout",
          "output_type": "stream",
          "text": [
            "torch.Size([2, 10, 8])\n"
          ]
        }
      ],
      "source": [
        "x = torch.randn((2, 10, 8))\n",
        "mask = torch.randn((2, 10)) > 0.5\n",
        "mask = mask.unsqueeze(1).unsqueeze(-1)\n",
        "num_heads = 4\n",
        "model = TransformerEncoder(8, num_heads, 32, 2, 0.1)\n",
        "y = model(x)\n",
        "assert len(x.shape) == len(y.shape)\n",
        "for dim_x, dim_y in zip(x.shape, y.shape):\n",
        "    assert dim_x == dim_y\n",
        "print(y.shape)"
      ],
      "id": "64ddad9c"
    },
    {
      "cell_type": "markdown",
      "metadata": {
        "id": "b4c4330c"
      },
      "source": [
        "### <font size='4' color='red'>Task 2.5: Implement Positional Encoding (7 points)</font>"
      ],
      "id": "b4c4330c"
    },
    {
      "cell_type": "code",
      "execution_count": null,
      "metadata": {
        "id": "52b5ff70"
      },
      "outputs": [],
      "source": [
        "class PositionalEncoding(nn.Module):\n",
        "    \"\"\"\n",
        "    A module that adds positional encoding to each of the token's features.\n",
        "    So that the Transformer is position aware.\n",
        "    \"\"\"\n",
        "    def __init__(self, input_dim: int, max_len: int=10000):\n",
        "        \"\"\"\n",
        "        Inputs:\n",
        "        - input_dim: Input dimension about the features for each token\n",
        "        - max_len: The maximum sequence length\n",
        "        \"\"\"\n",
        "        super(PositionalEncoding, self).__init__()\n",
        "        \n",
        "        self.input_dim = input_dim\n",
        "        self.max_len = max_len\n",
        "        \n",
        "    def forward(self, x):\n",
        "        \"\"\"\n",
        "        Compute the positional encoding and add it to x.\n",
        "        \n",
        "        Input:\n",
        "        - x: Tensor of the shape BxLxC, where B is the batch size, L is the sequence length,\n",
        "          and C is the channel dimension\n",
        "          \n",
        "        Return:\n",
        "        - x: Tensor of the shape BxLxC, with the positional encoding added to the input\n",
        "        \"\"\"\n",
        "        seq_len = x.shape[1]\n",
        "        input_dim = x.shape[2]\n",
        "        \n",
        "        pe = None\n",
        "        ###########################################################################\n",
        "        # TODO: Compute the positional encoding                                   #\n",
        "        # Check Section 3.5 for the definition (https://arxiv.org/pdf/1706.03762.pdf)\n",
        "        #                                                                         #\n",
        "        # It's a bit messy, but the definition is provided for your here for your #\n",
        "        # convenience (in LaTex).                                                 #\n",
        "        # PE_{(pos,2i)} = sin(pos / 10000^{2i/\\dmodel})                           #\n",
        "        # PE_{(pos,2i+1)} = cos(pos / 10000^{2i/\\dmodel})                         #\n",
        "        #                                                                         #\n",
        "        # You should replace 10000 with max_len here.\n",
        "        ###########################################################################\n",
        "        ## need to add matrix the same size as x to x\n",
        "\n",
        "        pe = torch.zeros(seq_len, input_dim)\n",
        "\n",
        "\n",
        "        #for batch in range(x.shape[0]): # wait do I need this - I dont think I need this\n",
        "\n",
        "        ## ill just grab the whole batch ? \n",
        "\n",
        "        for position in range(seq_len):\n",
        "          for i in range(0, input_dim, 2):\n",
        "            pe[position, i] = math.sin(position / (self.max_len**(i / input_dim)))\n",
        "            pe[position, i+1] = math.cos(position / (self.max_len**(i / input_dim)))\n",
        "\n",
        "\n",
        "\n",
        "        ###########################################################################\n",
        "        #                             END OF YOUR CODE                            #\n",
        "        ###########################################################################\n",
        "        \n",
        "        x = x + pe.to(x.device)\n",
        "        return x"
      ],
      "id": "52b5ff70"
    },
    {
      "cell_type": "code",
      "execution_count": null,
      "metadata": {
        "id": "6d1d76c1"
      },
      "outputs": [],
      "source": [
        "# Sanity check\n",
        "x = torch.randn(1, 100, 20)\n",
        "pe = PositionalEncoding(20)\n",
        "y = pe(x)\n",
        "assert len(x.shape) == len(y.shape)\n",
        "for dim_x, dim_y in zip(x.shape, y.shape):\n",
        "    assert dim_x == dim_y"
      ],
      "id": "6d1d76c1"
    },
    {
      "cell_type": "code",
      "execution_count": null,
      "metadata": {
        "colab": {
          "base_uri": "https://localhost:8080/"
        },
        "id": "5a34a7de",
        "outputId": "5c424007-61bc-41e8-b555-04bdc2a5578c"
      },
      "outputs": [
        {
          "data": {
            "text/plain": [
              "<matplotlib.legend.Legend at 0x7f1e59673a50>"
            ]
          },
          "execution_count": 67,
          "metadata": {},
          "output_type": "execute_result"
        },
        {
          "data": {
            "image/png": "[encoded data removed]",
            "text/plain": [
              "<Figure size 1080x360 with 1 Axes>"
            ]
          },
          "metadata": {},
          "output_type": "display_data"
        }
      ],
      "source": [
        "%matplotlib inline\n",
        "import matplotlib.pyplot as plt\n",
        "import numpy as np\n",
        "\n",
        "plt.figure(figsize=(15, 5))\n",
        "pe = PositionalEncoding(20) # assigning it to 0 gets an error? \n",
        "y = pe.forward((torch.zeros(1, 100, 20)))\n",
        "plt.plot(np.arange(100), y[0, :, 4:8].data.numpy())\n",
        "plt.legend([\"dim %d\"%p for p in [4,5,6,7]])"
      ],
      "id": "5a34a7de"
    },
    {
      "cell_type": "markdown",
      "metadata": {
        "id": "403b5eb6"
      },
      "source": [
        "### <font size='4' color='red'>Task 2.6: Implement a Transformer-based Text Classifier (5 points)</font>"
      ],
      "id": "403b5eb6"
    },
    {
      "cell_type": "code",
      "execution_count": null,
      "metadata": {
        "id": "ea75af7f"
      },
      "outputs": [],
      "source": [
        "class TransformerClassifier(nn.Module):\n",
        "    \"\"\"\n",
        "    A Transformer-based text classifier.\n",
        "    \"\"\"\n",
        "    def __init__(self, \n",
        "            vocab_size: int, embed_dim: int, num_heads: int, trx_ff_dim: int, \n",
        "            num_trx_cells: int, num_class: int, dropout: float=0.1, pad_token: int=0\n",
        "        ):\n",
        "        \"\"\"\n",
        "        Inputs:\n",
        "        - vocab_size: Vocabulary size, indicating how many tokens we have in total.\n",
        "        - embed_dim: The dimension of word embeddings\n",
        "        - num_heads: Number of attention heads in a multi-head attention module\n",
        "        - trx_ff_dim: The hidden dimension for a feedforward network\n",
        "        - num_trx_cells: Number of TransformerEncoderCells\n",
        "        - dropout: Dropout ratio\n",
        "        - pad_token: The index of the padding token.\n",
        "        \"\"\"\n",
        "        super(TransformerClassifier, self).__init__()\n",
        "        \n",
        "        self.embed_dim = embed_dim\n",
        "        \n",
        "        # word embedding layer\n",
        "        self.embedding = nn.Embedding(vocab_size, embed_dim, padding_idx=pad_token)\n",
        "        \n",
        "        ###########################################################################\n",
        "        # TODO: Define a module for positional encoding, Transformer encoder, and #\n",
        "        # a output layer                                                          #\n",
        "        ###########################################################################\n",
        "        self.positional = PositionalEncoding(embed_dim)\n",
        "        self.transformer = TransformerEncoder(embed_dim, num_heads, trx_ff_dim,\n",
        "                                              num_trx_cells, dropout)\n",
        "        self.out = nn.Linear(embed_dim, num_class)\n",
        "        ###########################################################################\n",
        "        #                             END OF YOUR CODE                            #\n",
        "        ###########################################################################\n",
        "\n",
        "    def forward(self, text, mask=None):\n",
        "        \"\"\"\n",
        "        Inputs:\n",
        "        - text: Tensor with the shape of BxLxC.\n",
        "        - mask: Tensor for multi-head attention\n",
        "        \n",
        "        Return:\n",
        "        - logits: Tensor with the shape of BxK, where K is the number of classes\n",
        "        \"\"\"\n",
        "        \n",
        "        # word embeddings, note we multiple the embeddings by a factor\n",
        "        embedded = self.embedding(text) * math.sqrt(self.embed_dim)\n",
        "        \n",
        "        logits = None\n",
        "        ###########################################################################\n",
        "        # TODO: Apply positional embedding to the input, which is then fed into   #\n",
        "        # the encoder. Average pooling is applied then to all the features of all #\n",
        "        # tokens. Finally, the logits are computed based on the pooled features.  #\n",
        "        ###########################################################################\n",
        "        pos = self.positional(embedded)\n",
        "        transformed = self.transformer(pos, mask)\n",
        "\n",
        "        # avpool = nn.AvgPool1d(num_class)\n",
        "\n",
        "\n",
        "        lin = self.out(transformed)\n",
        "\n",
        "\n",
        "\n",
        "        pooled = torch.mean(lin, axis=1)\n",
        "\n",
        "\n",
        "        logits = pooled\n",
        "\n",
        "\n",
        "        ###########################################################################\n",
        "        #                             END OF YOUR CODE                            #\n",
        "        ###########################################################################\n",
        "        \n",
        "        return logits"
      ],
      "id": "ea75af7f"
    },
    {
      "cell_type": "code",
      "execution_count": null,
      "metadata": {
        "colab": {
          "base_uri": "https://localhost:8080/"
        },
        "id": "5e926e90",
        "outputId": "b2b415cc-09a2-4125-e909-6d03a2235ec3"
      },
      "outputs": [
        {
          "name": "stdout",
          "output_type": "stream",
          "text": [
            "x: torch.Size([2, 10]), mask: torch.Size([2, 1, 1, 10])\n",
            "torch.Size([2, 3])\n"
          ]
        }
      ],
      "source": [
        "vocab_size = 10\n",
        "embed_dim = 16\n",
        "num_heads = 4\n",
        "trx_ff_dim = 16\n",
        "num_trx_cells = 2\n",
        "num_class = 3\n",
        "\n",
        "x = torch.arange(vocab_size).view(1, -1)\n",
        "x = torch.cat((x, x), dim=0)\n",
        "mask = (x != 0).unsqueeze(-2).unsqueeze(1)\n",
        "model = TransformerClassifier(vocab_size, embed_dim, num_heads, trx_ff_dim, num_trx_cells, num_class)\n",
        "print('x: {}, mask: {}'.format(x.shape, mask.shape))\n",
        "y = model(x, mask)\n",
        "assert len(y.shape) == 2 and y.shape[0] == x.shape[0] and y.shape[1] == num_class\n",
        "print(y.shape)"
      ],
      "id": "5e926e90"
    },
    {
      "cell_type": "markdown",
      "metadata": {
        "id": "8c1f02fc"
      },
      "source": [
        "### <font size='4' color='red'>Task 2.7: Define the Model and Loss Function (3 points)</font>"
      ],
      "id": "8c1f02fc"
    },
    {
      "cell_type": "code",
      "execution_count": null,
      "metadata": {
        "colab": {
          "base_uri": "https://localhost:8080/"
        },
        "id": "46bd5779",
        "outputId": "e76018bb-0fbe-4ba5-9d3b-a9c30ca64939"
      },
      "outputs": [
        {
          "name": "stdout",
          "output_type": "stream",
          "text": [
            "| epoch   1 |   500/ 1782 batches | accuracy    0.476\n",
            "| epoch   1 |  1000/ 1782 batches | accuracy    0.746\n",
            "| epoch   1 |  1500/ 1782 batches | accuracy    0.816\n",
            "-----------------------------------------------------------\n",
            "| end of epoch   1 | time: 88.09s | valid accuracy    0.842 \n",
            "-----------------------------------------------------------\n",
            "| epoch   2 |   500/ 1782 batches | accuracy    0.857\n",
            "| epoch   2 |  1000/ 1782 batches | accuracy    0.872\n",
            "| epoch   2 |  1500/ 1782 batches | accuracy    0.879\n",
            "-----------------------------------------------------------\n",
            "| end of epoch   2 | time: 87.27s | valid accuracy    0.877 \n",
            "-----------------------------------------------------------\n",
            "| epoch   3 |   500/ 1782 batches | accuracy    0.895\n",
            "| epoch   3 |  1000/ 1782 batches | accuracy    0.900\n",
            "| epoch   3 |  1500/ 1782 batches | accuracy    0.903\n",
            "-----------------------------------------------------------\n",
            "| end of epoch   3 | time: 88.04s | valid accuracy    0.891 \n",
            "-----------------------------------------------------------\n",
            "| epoch   4 |   500/ 1782 batches | accuracy    0.910\n",
            "| epoch   4 |  1000/ 1782 batches | accuracy    0.915\n",
            "| epoch   4 |  1500/ 1782 batches | accuracy    0.916\n",
            "-----------------------------------------------------------\n",
            "| end of epoch   4 | time: 88.81s | valid accuracy    0.900 \n",
            "-----------------------------------------------------------\n",
            "| epoch   5 |   500/ 1782 batches | accuracy    0.923\n",
            "| epoch   5 |  1000/ 1782 batches | accuracy    0.925\n",
            "| epoch   5 |  1500/ 1782 batches | accuracy    0.925\n",
            "-----------------------------------------------------------\n",
            "| end of epoch   5 | time: 87.62s | valid accuracy    0.906 \n",
            "-----------------------------------------------------------\n"
          ]
        }
      ],
      "source": [
        "assert torch.cuda.is_available()\n",
        "# device = 'cuda'\n",
        "device = torch.device(\"cuda\" if torch.cuda.is_available() else \"cpu\")\n",
        "\n",
        "# Hyperparameters\n",
        "epochs = 5 # epoch\n",
        "lr = 0.0005  # learning rate\n",
        "batch_size = 64 # batch size for training\n",
        "  \n",
        "train_iter = AG_NEWS(split='train')\n",
        "num_class = len(set([label for (label, text) in train_iter]))\n",
        "vocab_size = len(vocab)\n",
        "emsize = 64\n",
        "\n",
        "num_heads = 4\n",
        "num_trx_cells = 2\n",
        "\n",
        "gradient_norm_clip = 1\n",
        "\n",
        "###########################################################################\n",
        "# Define a Transformer-based text classifier and a loss function.         #\n",
        "###########################################################################\n",
        "model = TransformerClassifier(vocab_size, emsize, num_heads, \n",
        "                              emsize, num_trx_cells, num_class)\n",
        "\n",
        "loss_func == nn.CrossEntropyLoss()\n",
        "###########################################################################\n",
        "#                             END OF YOUR CODE                            #\n",
        "###########################################################################\n",
        "model = model.to(device)\n",
        "\n",
        "optimizer = torch.optim.AdamW(model.parameters(), lr=lr)\n",
        "scheduler = torch.optim.lr_scheduler.CosineAnnealingLR(optimizer, epochs, 1e-8)\n",
        "total_accu = None\n",
        "\n",
        "# You should be able to get a validation accuracy around 89%\n",
        "for epoch in range(1, epochs + 1):\n",
        "    epoch_start_time = time.time()\n",
        "    train(model, train_dataloader, loss_func, device, gradient_norm_clip)\n",
        "    accu_val = evaluate(model, valid_dataloader, loss_func, device)\n",
        "    if total_accu is not None and total_accu > accu_val:\n",
        "        scheduler.step()\n",
        "    else:\n",
        "        total_accu = accu_val\n",
        "    print('-' * 59)\n",
        "    print('| end of epoch {:3d} | time: {:5.2f}s | '\n",
        "          'valid accuracy {:8.3f} '.format(epoch,\n",
        "                                           time.time() - epoch_start_time,\n",
        "                                           accu_val))\n",
        "    print('-' * 59)"
      ],
      "id": "46bd5779"
    },
    {
      "cell_type": "markdown",
      "metadata": {
        "id": "fba2a914"
      },
      "source": [
        "## Part 3: Image Classification with Transformer (10 points)"
      ],
      "id": "fba2a914"
    },
    {
      "cell_type": "markdown",
      "metadata": {
        "id": "b8d670e6"
      },
      "source": [
        "### <font size='4' color='red'>Task 3.1: Implement VisionTransformer for Image Classification (no flor loops are allowed, 7 points)</font>"
      ],
      "id": "b8d670e6"
    },
    {
      "cell_type": "code",
      "execution_count": null,
      "metadata": {
        "id": "87161192"
      },
      "outputs": [],
      "source": [
        "class VisionTransformerClassifier(nn.Module):\n",
        "    \"\"\"\n",
        "    In the model, we partition an image into non-overlapping patches. Each patch is treated as a token.\n",
        "    We can get a sequence of such tokens by flattening the patches. Each token's embeddings is the\n",
        "    flattened RGB pixel values. If the patch size is 4, then the embeddings' dimension is 4*4*3.\n",
        "    You can check this paper https://arxiv.org/pdf/2010.11929.pdf for reference.\n",
        "    \"\"\"\n",
        "    def __init__(self, \n",
        "            patch_size: int, num_heads: int, trx_ff_dim: int, \n",
        "            num_trx_cells: int, num_class: int, dropout: float=0.1\n",
        "        ):\n",
        "        \"\"\"\n",
        "        Inputs:\n",
        "        - patch_size: Size of the non-overlapping patches\n",
        "        - num_heads: Number of attention heads\n",
        "        - trx_ff_dim: Hidden dimension of the feedforward network in a Transformer encoder\n",
        "        - num_trx_cells: Number of TransformerEncoderCells \n",
        "        - num_class: Number of image classes\n",
        "        - dropout: Dropout ratio\n",
        "        \"\"\"\n",
        "        super(VisionTransformerClassifier, self).__init__()\n",
        "        \n",
        "        self.patch_size = patch_size\n",
        "        \n",
        "        ###########################################################################\n",
        "        # TODO: Define a TransformerEncoder that takens non-overlapping patches   #\n",
        "        # of an image as input and another output layer for classification.       #\n",
        "        #                                                                         #\n",
        "        # Intuitively, we need 2D positional encodings for each patch according to#\n",
        "        # its x and y coordinates. But this reference paper https://arxiv.org/pdf/2010.11929.pdf\n",
        "        # shows there is no significance difference on accuracies. It is bit      #\n",
        "        # weird. But you can simply use the 1D positional encoding you have       #\n",
        "        # implemented earlier. You can experiment with 2D positional encodings    #\n",
        "        # if you like to earn extra credits.                                      #\n",
        "        ###########################################################################\n",
        "        self.transformer = TransformerEncoder(patch_size*patch_size, num_heads, trx_ff_dim,\n",
        "                                              num_trx_cells, dropout)\n",
        "        \n",
        "        self.out = nn.Linear(patch_size*patch_size, num_class)\n",
        "        ###########################################################################\n",
        "        #                             END OF YOUR CODE                            #\n",
        "        ###########################################################################\n",
        "\n",
        "#     def init_weights(self):\n",
        "#         initrange = 0.5\n",
        "#         self.embedding.weight.data.uniform_(-initrange, initrange)\n",
        "#         self.fc.weight.data.uniform_(-initrange, initrange)\n",
        "#         self.fc.bias.data.zero_()\n",
        "\n",
        "    def forward(self, image: torch.Tensor):\n",
        "        \"\"\"\n",
        "        Input:\n",
        "        - image: Tensor of the shape BxCxHxW, where H and W are the height and width, respectively.\n",
        "        \n",
        "        Return:\n",
        "        - logtis: Classification logits\n",
        "        \"\"\"\n",
        "        \n",
        "        b, c, h, w = image.shape\n",
        "        \n",
        "        ###########################################################################\n",
        "        # TODO: Partition an image into non-overlapping patches. Think of how to  #\n",
        "        # reshape the tensor to convert it to be the BxLxC format, which we have  #\n",
        "        # extensively used for NLP tasks. You may find tensor.permute helpful.    #\n",
        "        # Check documentation here https://pytorch.org/docs/stable/generated/torch.permute.html#torch.permute\n",
        "        ###########################################################################\n",
        "        # print(self.patch_size) patch size is just 4\n",
        "\n",
        "        ### gotta reshape this 4 dim into a 3 dim \n",
        "\n",
        "        ## quite honestly how we doing this\n",
        "\n",
        "\n",
        "        ## must return the batch and the num classes\n",
        "        # img = torch.permute(image, (0,3, 1,2))\n",
        "\n",
        "        unfold = nn.Unfold(kernel_size=(self.patch_size, self.patch_size))\n",
        "        img = unfold(image)\n",
        "        img = img.permute(0,2,1)\n",
        "        mid = img.size()[1]\n",
        "        last = img.size()[2]\n",
        "        \n",
        "\n",
        "        img = img.reshape((b, mid*c, int(last / c)))\n",
        "\n",
        "        transformed = self.transformer(img)\n",
        "\n",
        "    \n",
        "\n",
        "        out = self.out(transformed)\n",
        "\n",
        "\n",
        "        logits = torch.mean(out, axis=1)\n",
        "\n",
        "\n",
        "        # img = image.reshape(b, h*w,c)\n",
        "\n",
        "        # print(img.size()) cool so we can actually reshape it that way\n",
        "        # now for the patches\n",
        "        ## unfold is used for patching (I read the docs)\n",
        "\n",
        "\n",
        "\n",
        "\n",
        "\n",
        "        ###########################################################################\n",
        "        #                             END OF YOUR CODE                            #\n",
        "        ###########################################################################\n",
        "        \n",
        "        return logits"
      ],
      "id": "87161192"
    },
    {
      "cell_type": "code",
      "execution_count": null,
      "metadata": {
        "colab": {
          "base_uri": "https://localhost:8080/"
        },
        "id": "1c0a5642",
        "outputId": "4c9bf469-4468-430c-fffa-f6603afe783a"
      },
      "outputs": [
        {
          "name": "stdout",
          "output_type": "stream",
          "text": [
            "torch.Size([2, 5])\n"
          ]
        }
      ],
      "source": [
        "# Sanity check\n",
        "image = torch.randn((2, 3, 32, 32))\n",
        "patch_size = 4\n",
        "num_heads = 4\n",
        "num_trx_cells = 2\n",
        "trx_ff_dim = 16\n",
        "dropout = 0.1\n",
        "num_class = 5\n",
        "\n",
        "vit = VisionTransformerClassifier(patch_size, num_heads, trx_ff_dim, num_trx_cells, num_class, dropout)\n",
        "logits = vit(image)\n",
        "assert len(logits.shape) == 2 and logits.shape[0] == image.shape[0] and logits.shape[1] == num_class\n",
        "print(logits.shape)"
      ],
      "id": "1c0a5642"
    },
    {
      "cell_type": "markdown",
      "metadata": {
        "id": "966276ca"
      },
      "source": [
        "### Prepare Data Loaders"
      ],
      "id": "966276ca"
    },
    {
      "cell_type": "code",
      "execution_count": null,
      "metadata": {
        "colab": {
          "base_uri": "https://localhost:8080/"
        },
        "id": "b80c3d63",
        "outputId": "26ef75f6-1c2a-45b3-cfa2-2b9bfa6b2e03"
      },
      "outputs": [
        {
          "name": "stdout",
          "output_type": "stream",
          "text": [
            "[Errno 2] No such file or directory: '../datasets'\n",
            "/content\n",
            "--2022-04-18 20:23:27--  http://www.cs.toronto.edu/~kriz/cifar-10-python.tar.gz\n",
            "Resolving www.cs.toronto.edu (www.cs.toronto.edu)... 128.100.3.30\n",
            "Connecting to www.cs.toronto.edu (www.cs.toronto.edu)|128.100.3.30|:80... connected.\n",
            "HTTP request sent, awaiting response... 200 OK\n",
            "Length: 170498071 (163M) [application/x-gzip]\n",
            "Saving to: ‘cifar-10-python.tar.gz’\n",
            "\n",
            "cifar-10-python.tar 100%[===================>] 162.60M  57.0MB/s    in 2.9s    \n",
            "\n",
            "2022-04-18 20:23:30 (57.0 MB/s) - ‘cifar-10-python.tar.gz’ saved [170498071/170498071]\n",
            "\n",
            "cifar-10-batches-py/\n",
            "cifar-10-batches-py/data_batch_4\n",
            "cifar-10-batches-py/readme.html\n",
            "cifar-10-batches-py/test_batch\n",
            "cifar-10-batches-py/data_batch_3\n",
            "cifar-10-batches-py/batches.meta\n",
            "cifar-10-batches-py/data_batch_2\n",
            "cifar-10-batches-py/data_batch_5\n",
            "cifar-10-batches-py/data_batch_1\n"
          ]
        }
      ],
      "source": [
        "# let's download the data\n",
        "%cd ../datasets\n",
        "\n",
        "# 1 -- Linux \n",
        "# 2 -- MacOS\n",
        "# 3 -- Command Prompt on Windows\n",
        "# 4 -- manually downloading the data\n",
        "choice = 1\n",
        "\n",
        "\n",
        "if choice == 1:\n",
        "    # should work well on Linux and in Powershell on Windows\n",
        "    !wget http://www.cs.toronto.edu/~kriz/cifar-10-python.tar.gz\n",
        "elif choice == 2 or choice ==3:\n",
        "    # if wget is not available for you, try curl\n",
        "    # should work well on MacOS\n",
        "    !curl http://www.cs.toronto.edu/~kriz/cifar-10-python.tar.gz --output cifar-10-python.tar.gz\n",
        "else:\n",
        "    print('Please manually download the data from http://www.cs.toronto.edu/~kriz/cifar-10-python.tar.gz and put it under the datasets folder.')\n",
        "!tar -xzvf cifar-10-python.tar.gz\n",
        "\n",
        "if choice==3:\n",
        "    !del cifar-10-python.tar.gz\n",
        "else:\n",
        "    !rm cifar-10-python.tar.gz"
      ],
      "id": "b80c3d63"
    },
    {
      "cell_type": "code",
      "execution_count": null,
      "metadata": {
        "colab": {
          "base_uri": "https://localhost:8080/"
        },
        "id": "724c00ec",
        "outputId": "9effc284-2ba2-411d-d32f-1c97ead38a8e"
      },
      "outputs": [
        {
          "name": "stdout",
          "output_type": "stream",
          "text": [
            "('X_train: ', (49000, 3, 32, 32))\n",
            "('y_train: ', (49000,))\n",
            "('X_val: ', (1000, 3, 32, 32))\n",
            "('y_val: ', (1000,))\n",
            "('X_test: ', (1000, 3, 32, 32))\n",
            "('y_test: ', (1000,))\n"
          ]
        }
      ],
      "source": [
        "from six.moves import cPickle as pickle\n",
        "import numpy as np\n",
        "import os\n",
        "from imageio import imread\n",
        "import platform\n",
        "\n",
        "def load_pickle(f):\n",
        "    version = platform.python_version_tuple()\n",
        "    if version[0] == '2':\n",
        "        return  pickle.load(f)\n",
        "    elif version[0] == '3':\n",
        "        return  pickle.load(f, encoding='latin1')\n",
        "    raise ValueError(\"invalid python version: {}\".format(version))\n",
        "\n",
        "def load_CIFAR_batch(filename):\n",
        "  \"\"\" load single batch of cifar \"\"\"\n",
        "  with open(filename, 'rb') as f:\n",
        "    datadict = load_pickle(f)\n",
        "    X = datadict['data']\n",
        "    Y = datadict['labels']\n",
        "    X = X.reshape(10000, 3, 32, 32).transpose(0,2,3,1).astype(\"float\")\n",
        "    Y = np.array(Y)\n",
        "    return X, Y\n",
        "\n",
        "def load_CIFAR10(ROOT):\n",
        "  \"\"\" load all of cifar \"\"\"\n",
        "  xs = []\n",
        "  ys = []\n",
        "  for b in range(1,6):\n",
        "    f = os.path.join(ROOT, 'data_batch_%d' % (b, ))\n",
        "    X, Y = load_CIFAR_batch(f)\n",
        "    xs.append(X)\n",
        "    ys.append(Y)\n",
        "  Xtr = np.concatenate(xs)\n",
        "  Ytr = np.concatenate(ys)\n",
        "  del X, Y\n",
        "  Xte, Yte = load_CIFAR_batch(os.path.join(ROOT, 'test_batch'))\n",
        "  return Xtr, Ytr, Xte, Yte\n",
        "\n",
        "\n",
        "def get_CIFAR10_data(cifar10_dir, num_training=49000, num_validation=1000, num_test=1000,\n",
        "                     subtract_mean=True):\n",
        "    \"\"\"\n",
        "    Load the CIFAR-10 dataset from disk and perform preprocessing to prepare\n",
        "    it for classifiers. These are the same steps as we used for the SVM, but\n",
        "    condensed to a single function.\n",
        "    \"\"\"\n",
        "    # Load the raw CIFAR-10 data\n",
        "    X_train, y_train, X_test, y_test = load_CIFAR10(cifar10_dir)\n",
        "\n",
        "    # Subsample the data\n",
        "    mask = list(range(num_training, num_training + num_validation))\n",
        "    X_val = X_train[mask]\n",
        "    y_val = y_train[mask]\n",
        "    mask = list(range(num_training))\n",
        "    X_train = X_train[mask]\n",
        "    y_train = y_train[mask]\n",
        "    mask = list(range(num_test))\n",
        "    X_test = X_test[mask]\n",
        "    y_test = y_test[mask]\n",
        "\n",
        "    # Normalize the data: subtract the mean image\n",
        "    if subtract_mean:\n",
        "      mean_image = np.mean(X_train, axis=0)\n",
        "      X_train -= mean_image\n",
        "      X_val -= mean_image\n",
        "      X_test -= mean_image\n",
        "\n",
        "    # Transpose so that channels come first\n",
        "    X_train = X_train.transpose(0, 3, 1, 2).copy()\n",
        "    X_val = X_val.transpose(0, 3, 1, 2).copy()\n",
        "    X_test = X_test.transpose(0, 3, 1, 2).copy()\n",
        "\n",
        "    # Package data into a dictionary\n",
        "    return {\n",
        "      'X_train': X_train, 'y_train': y_train,\n",
        "      'X_val': X_val, 'y_val': y_val,\n",
        "      'X_test': X_test, 'y_test': y_test,\n",
        "    }\n",
        "\n",
        "# Split the data into train, val, and test sets. \n",
        "# Check the get_CIFAR10_data function for more details\n",
        "cifar10_dir = 'cifar-10-batches-py'\n",
        "data = get_CIFAR10_data(cifar10_dir)\n",
        "for k, v in list(data.items()):\n",
        "    print(('%s: ' % k, v.shape))"
      ],
      "id": "724c00ec"
    },
    {
      "cell_type": "code",
      "execution_count": null,
      "metadata": {
        "colab": {
          "base_uri": "https://localhost:8080/"
        },
        "id": "f770e8d3",
        "outputId": "8e098542-ad00-4297-c0aa-d2eee1685e5c"
      },
      "outputs": [
        {
          "name": "stdout",
          "output_type": "stream",
          "text": [
            "torch.Size([8, 3, 32, 32]) tensor([7, 8, 4, 4, 4, 0, 3, 5])\n",
            "torch.Size([8, 3, 32, 32]) tensor([7, 3, 3, 3, 2, 9, 4, 3])\n"
          ]
        }
      ],
      "source": [
        "from torch.utils.data.dataset import TensorDataset\n",
        "\n",
        "def make_dataloader(x, y, batch_size, is_train):\n",
        "    dataset = TensorDataset(\n",
        "        torch.from_numpy(y).long(),\n",
        "        torch.from_numpy(x).float() \n",
        "    )\n",
        "    dataloader = DataLoader(\n",
        "        dataset,\n",
        "        batch_size=batch_size,\n",
        "        shuffle=is_train,\n",
        "        num_workers=2,\n",
        "        drop_last=is_train\n",
        "    )\n",
        "    return dataloader\n",
        "    \n",
        "train_loader = make_dataloader(data['X_train'], data['y_train'], 8, True)\n",
        "for idx, (lab, im) in enumerate(train_loader):\n",
        "    if idx > 1:\n",
        "        break\n",
        "    print(im.shape, lab)"
      ],
      "id": "f770e8d3"
    },
    {
      "cell_type": "markdown",
      "metadata": {
        "id": "570d32af"
      },
      "source": [
        "### <font size='4' color='red'>Task 3.2: Define the Model and Loss Function (3 points)</font>"
      ],
      "id": "570d32af"
    },
    {
      "cell_type": "code",
      "execution_count": null,
      "metadata": {
        "colab": {
          "background_save": true,
          "base_uri": "https://localhost:8080/"
        },
        "id": "81f44a98",
        "outputId": "325df531-f72f-4b23-9971-c706f90d14fa"
      },
      "outputs": [
        {
          "name": "stdout",
          "output_type": "stream",
          "text": [
            "| epoch   1 |   500/ 3062 batches | accuracy    0.181\n",
            "| epoch   1 |  1000/ 3062 batches | accuracy    0.245\n",
            "| epoch   1 |  1500/ 3062 batches | accuracy    0.266\n",
            "| epoch   1 |  2000/ 3062 batches | accuracy    0.291\n",
            "| epoch   1 |  2500/ 3062 batches | accuracy    0.295\n",
            "| epoch   1 |  3000/ 3062 batches | accuracy    0.312\n",
            "-----------------------------------------------------------\n",
            "| end of epoch   1 | time: 1084.76s | valid accuracy    0.301 \n",
            "-----------------------------------------------------------\n",
            "| epoch   2 |   500/ 3062 batches | accuracy    0.330\n",
            "| epoch   2 |  1000/ 3062 batches | accuracy    0.339\n",
            "| epoch   2 |  1500/ 3062 batches | accuracy    0.352\n",
            "| epoch   2 |  2000/ 3062 batches | accuracy    0.354\n",
            "| epoch   2 |  2500/ 3062 batches | accuracy    0.354\n",
            "| epoch   2 |  3000/ 3062 batches | accuracy    0.371\n",
            "-----------------------------------------------------------\n",
            "| end of epoch   2 | time: 1088.02s | valid accuracy    0.372 \n",
            "-----------------------------------------------------------\n",
            "| epoch   3 |   500/ 3062 batches | accuracy    0.376\n",
            "| epoch   3 |  1000/ 3062 batches | accuracy    0.383\n",
            "| epoch   3 |  1500/ 3062 batches | accuracy    0.381\n",
            "| epoch   3 |  2000/ 3062 batches | accuracy    0.398\n",
            "| epoch   3 |  2500/ 3062 batches | accuracy    0.394\n",
            "| epoch   3 |  3000/ 3062 batches | accuracy    0.404\n",
            "-----------------------------------------------------------\n",
            "| end of epoch   3 | time: 1088.41s | valid accuracy    0.417 \n",
            "-----------------------------------------------------------\n",
            "| epoch   4 |   500/ 3062 batches | accuracy    0.406\n",
            "| epoch   4 |  1000/ 3062 batches | accuracy    0.406\n",
            "| epoch   4 |  1500/ 3062 batches | accuracy    0.404\n",
            "| epoch   4 |  2000/ 3062 batches | accuracy    0.408\n",
            "| epoch   4 |  2500/ 3062 batches | accuracy    0.401\n",
            "| epoch   4 |  3000/ 3062 batches | accuracy    0.417\n",
            "-----------------------------------------------------------\n",
            "| end of epoch   4 | time: 1089.77s | valid accuracy    0.429 \n",
            "-----------------------------------------------------------\n",
            "| epoch   5 |   500/ 3062 batches | accuracy    0.423\n",
            "| epoch   5 |  1000/ 3062 batches | accuracy    0.413\n",
            "| epoch   5 |  1500/ 3062 batches | accuracy    0.424\n",
            "| epoch   5 |  2000/ 3062 batches | accuracy    0.425\n",
            "| epoch   5 |  2500/ 3062 batches | accuracy    0.429\n",
            "| epoch   5 |  3000/ 3062 batches | accuracy    0.428\n",
            "-----------------------------------------------------------\n",
            "| end of epoch   5 | time: 1089.38s | valid accuracy    0.460 \n",
            "-----------------------------------------------------------\n"
          ]
        }
      ],
      "source": [
        "patch_size = 4\n",
        "embed_dim = 128\n",
        "num_heads = 4\n",
        "trx_ff_dim = 128\n",
        "num_trx_cells = 2\n",
        "num_class = 10\n",
        "dropout = .1\n",
        "\n",
        "###########################################################################\n",
        "# TODO: Define the model and loss function\n",
        "###########################################################################\n",
        "model = VisionTransformerClassifier(patch_size, num_heads, \n",
        "                                    trx_ff_dim, num_trx_cells, num_class, dropout)\n",
        "\n",
        "loss_func = nn.CrossEntropyLoss()\n",
        "###########################################################################\n",
        "#                             END OF YOUR CODE                            #\n",
        "###########################################################################\n",
        "\n",
        "for p in model.parameters():\n",
        "    if p.dim() > 1:\n",
        "        nn.init.xavier_uniform_(p)\n",
        "model = model.to(device)\n",
        "\n",
        "batch_size = 16\n",
        "train_loader = make_dataloader(data['X_train'], data['y_train'], batch_size, True)\n",
        "val_loader = make_dataloader(data['X_test'], data['y_test'], batch_size, False)\n",
        "\n",
        "# Hyperparameters\n",
        "epochs = 5 # epoch\n",
        "lr = 0.001\n",
        "gradient_norm_clips = 0.1\n",
        "\n",
        "optimizer = torch.optim.AdamW(model.parameters(), lr=lr)\n",
        "scheduler = torch.optim.lr_scheduler.CosineAnnealingLR(optimizer, epochs, 1e-8)\n",
        "total_accu = None\n",
        "\n",
        "# You should be able to get an accuracy around 36%\n",
        "for epoch in range(1, epochs + 1):\n",
        "    epoch_start_time = time.time()\n",
        "    train(model, train_loader, loss_func, device, gradient_norm_clip)\n",
        "    accu_val = evaluate(model, val_loader, loss_func, device)\n",
        "    if total_accu is not None and total_accu > accu_val:\n",
        "        scheduler.step()\n",
        "    else:\n",
        "        total_accu = accu_val\n",
        "    print('-' * 59)\n",
        "    print('| end of epoch {:3d} | time: {:5.2f}s | '\n",
        "          'valid accuracy {:8.3f} '.format(epoch,\n",
        "                                           time.time() - epoch_start_time,\n",
        "                                           accu_val))\n",
        "    print('-' * 59)"
      ],
      "id": "81f44a98"
    },
    {
      "cell_type": "markdown",
      "metadata": {
        "id": "f0e6ea7e"
      },
      "source": [
        "## Part 4: Machine Translation with Transformer (25 points)"
      ],
      "id": "f0e6ea7e"
    },
    {
      "cell_type": "markdown",
      "metadata": {
        "id": "e6ad5d07"
      },
      "source": [
        "### <font size='4' color='red'>Task 4.1: Implement Transformer Decoder Cell (10 points)</font>"
      ],
      "id": "e6ad5d07"
    },
    {
      "cell_type": "code",
      "execution_count": null,
      "metadata": {
        "colab": {
          "background_save": true
        },
        "id": "32619440"
      },
      "outputs": [],
      "source": [
        "class TransformerDecoderCell(nn.Module):\n",
        "    \"\"\"\n",
        "    A single cell (unit) of the Transformer decoder.\n",
        "    \"\"\"\n",
        "    def __init__(self, input_dim: int, num_heads: int, ff_dim: int, dropout: float=0.1):\n",
        "        \"\"\"\n",
        "        Inputs:\n",
        "        - input_dim: Input dimension for each token in a sequence\n",
        "        - num_heads: Number of attention heads in a multi-head attention module\n",
        "        - ff_dim: The hidden dimension for a feedforward network\n",
        "        - dropout: Dropout ratio for the output of the multi-head attention and feedforward\n",
        "          modules.\n",
        "        \"\"\"\n",
        "        super(TransformerDecoderCell, self).__init__()\n",
        "        \n",
        "        ###########################################################################\n",
        "        # TODO: Similar to the TransformerEncoderCell, define two                 #\n",
        "        # MultiHeadAttention modules. One for processing the tokens on the        # \n",
        "        # decoder side. The other for getting the attention across the encoder.   #\n",
        "        # and the decoder. Also define a feedforward network. Don't forget the    #\n",
        "        # Dropout and Layer Norm layers.                                          #\n",
        "        ###########################################################################\n",
        "        #multi head 1\n",
        "\n",
        "        self.multiHead1 = MultiHeadAttention(input_dim, num_heads)\n",
        "        # multi head 2\n",
        "\n",
        "        self.multiHead2 = MultiHeadAttention(input_dim, num_heads)\n",
        "\n",
        "        ### feed forward \n",
        "\n",
        "        self.feedForward = FeedForwardNetwork(input_dim, ff_dim, dropout)\n",
        "\n",
        "\n",
        "        ### dropout ###MAYBE 3 BECAUSE 2 MULTIHEAD\n",
        "\n",
        "        self.dropout1 = nn.Dropout(dropout)\n",
        "        self.dropout2 = nn.Dropout(dropout)\n",
        "        self.dropout3 = nn.Dropout(dropout)\n",
        "\n",
        "\n",
        "        ## layernorm (multiple?)\n",
        "\n",
        "        self.norm1 = nn.LayerNorm(input_dim)\n",
        "        self.norm2 = nn.LayerNorm(input_dim)\n",
        "        self.norm3 = nn.LayerNorm(input_dim)\n",
        "        ###########################################################################\n",
        "        #                             END OF YOUR CODE                            #\n",
        "        ###########################################################################\n",
        "        \n",
        "    def forward(self, x: torch.Tensor, encoder_output: torch.Tensor, src_mask=None, tgt_mask=None):            \n",
        "        \"\"\"\n",
        "        Inputs: \n",
        "        - x: Tensor of BxLdxC, word embeddings on the decoder side\n",
        "        - encoder_output: Tensor of BxLexC, word embeddings on the encoder side\n",
        "        - src_mask: Tensor, masks of the tokens on the encoder side\n",
        "        - tgt_mask: Tensor, masks of the tokens on the decoder side\n",
        "        \n",
        "        Return:\n",
        "        - y: Tensor of BxLdxC. Attended features for all tokens on the decoder side.\n",
        "        \"\"\"\n",
        "        \n",
        "        y = None\n",
        "        ###########################################################################\n",
        "        # TODO: Compute the self-attended features for the tokens on the decoder  #\n",
        "        # side. Then compute the corss-attended features for the tokens on the    #\n",
        "        # decoder side to the encoded features, which are finally feed into the   #\n",
        "        # feedforward network                                                     #\n",
        "        ###########################################################################\n",
        "        # norm \n",
        "        x_lay = self.norm1(x)\n",
        "        x_multi = self.multiHead1(x_lay, x_lay,x_lay, tgt_mask)\n",
        "\n",
        "        x = x + self.dropout1(x_multi)\n",
        "        x_lay = self.norm2(x)\n",
        "        x_multi = self.multiHead2(x_lay, x_lay,x_lay, tgt_mask)\n",
        "        x = x + self.dropout2(x_multi)\n",
        "        fed = self.feedForward(x)\n",
        "        fedNorm = self.norm3(fed)\n",
        "        y = self.dropout3(fedNorm)\n",
        "\n",
        "\n",
        "        ###########################################################################\n",
        "        #                             END OF YOUR CODE                            #\n",
        "        ###########################################################################\n",
        "        \n",
        "        return y"
      ],
      "id": "32619440"
    },
    {
      "cell_type": "code",
      "execution_count": null,
      "metadata": {
        "colab": {
          "background_save": true
        },
        "id": "f1fe2ae8",
        "outputId": "48ca9908-4875-492a-807e-09a359fdfea2"
      },
      "outputs": [
        {
          "name": "stdout",
          "output_type": "stream",
          "text": [
            "torch.Size([3, 10, 16])\n"
          ]
        }
      ],
      "source": [
        "dec_feats = torch.randn((3, 10, 16))\n",
        "dec_mask = torch.randn((3, 1, 10, 10)) > 0.5\n",
        "\n",
        "enc_feats = torch.randn((3, 12, 16))\n",
        "enc_mask = torch.randn((3, 1, 1, 12)) > 0.5\n",
        "\n",
        "model = TransformerDecoderCell(16, 2, 32, 0.1)\n",
        "z = model(dec_feats, enc_feats, enc_mask, dec_mask)\n",
        "assert len(z.shape) == len(dec_feats.shape)\n",
        "for dim_z, dim_x in zip(z.shape, dec_feats.shape):\n",
        "    assert dim_z == dim_x\n",
        "print(z.shape)"
      ],
      "id": "f1fe2ae8"
    },
    {
      "cell_type": "markdown",
      "metadata": {
        "id": "36259c71"
      },
      "source": [
        "### <font size='4' color='red'>Task 4.2: Implement Transformer Decoder (5 points)</font>"
      ],
      "id": "36259c71"
    },
    {
      "cell_type": "code",
      "execution_count": null,
      "metadata": {
        "colab": {
          "background_save": true
        },
        "id": "db0a3d21"
      },
      "outputs": [],
      "source": [
        "class TransformerDecoder(nn.Module):\n",
        "    \"\"\"\n",
        "    A TransformerDecoder is a stack of multiple TransformerDecoderCells and a Layer Norm.\n",
        "    \"\"\"\n",
        "    def __init__(self, input_dim: int, num_heads: int, ff_dim: int, num_cells: int, dropout=0.1):\n",
        "        \"\"\"\n",
        "        Inputs:\n",
        "        - input_dim: Input dimension for each token in a sequence\n",
        "        - num_heads: Number of attention heads in a multi-head attention module\n",
        "        - ff_dim: The hidden dimension for a feedforward network\n",
        "        - num_cells: How many TransformerDecoderCells in stack\n",
        "        - dropout: Dropout ratio for the output of the multi-head attention and feedforward\n",
        "          modules.\n",
        "        \"\"\"\n",
        "        super(TransformerDecoder, self).__init__()\n",
        "        \n",
        "        ###########################################################################\n",
        "        # TODO: Construct a nn.ModuleList to store a stack of                     #\n",
        "        # TranformerDecoderCells. Check the documentation here of how to use it   #\n",
        "        # https://pytorch.org/docs/stable/generated/torch.nn.ModuleList.html#torch.nn.ModuleList\n",
        "        \n",
        "        # At the same time, define a layer normalization layer to process the     #\n",
        "        # output of the entire encoder.                                           #\n",
        "        ###########################################################################\n",
        "        self.decoderCell = TransformerDecoderCell(input_dim, \n",
        "                                                  num_heads, \n",
        "                                                  ff_dim,\n",
        "                                                  dropout)\n",
        "        layers = []\n",
        "        for i in range(num_cells):\n",
        "          layers.append(self.decoderCell)\n",
        "        self.layers = nn.ModuleList(layers)\n",
        "        self.norm = nn.LayerNorm(input_dim)\n",
        "        ###########################################################################\n",
        "        #                             END OF YOUR CODE                            #\n",
        "        ###########################################################################\n",
        "    \n",
        "    def forward(self, x: torch.Tensor, encoder_output: torch.Tensor, src_mask=None, tgt_mask=None):            \n",
        "        \"\"\"\n",
        "        Inputs: \n",
        "        - x: Tensor of BxLdxC, word embeddings on the decoder side\n",
        "        - encoder_output: Tensor of BxLexC, word embeddings on the encoder side\n",
        "        - src_mask: Tensor, masks of the tokens on the encoder side\n",
        "        - tgt_mask: Tensor, masks of the tokens on the decoder side\n",
        "        \n",
        "        Return:\n",
        "        - y: Tensor of BxLdxC. Attended features for all tokens on the decoder side.\n",
        "        \"\"\"\n",
        "        \n",
        "        y = None\n",
        "        ###########################################################################\n",
        "        # TODO: Feed x into the stack of TransformerDecoderCells and then         #\n",
        "        # normalize the output with layer norm.                                   #\n",
        "        ###########################################################################\n",
        "        x_feed = x\n",
        "        for i in self.layers:\n",
        "          x_feed = i(x_feed, encoder_output, src_mask, tgt_mask)\n",
        "        \n",
        "        y = self.norm(x_feed)\n",
        "        ###########################################################################\n",
        "        #                             END OF YOUR CODE                            #\n",
        "        ###########################################################################\n",
        "        \n",
        "        return y"
      ],
      "id": "db0a3d21"
    },
    {
      "cell_type": "code",
      "execution_count": null,
      "metadata": {
        "colab": {
          "background_save": true
        },
        "id": "0af7e67d",
        "outputId": "f6b53ac6-03bd-455f-f150-57d4875ae9c8"
      },
      "outputs": [
        {
          "name": "stdout",
          "output_type": "stream",
          "text": [
            "torch.Size([3, 10, 16])\n"
          ]
        }
      ],
      "source": [
        "dec_feats = torch.randn((3, 10, 16))\n",
        "dec_mask = torch.randn((3, 1, 10, 10)) > 0.5\n",
        "\n",
        "enc_feats = torch.randn((3, 12, 16))\n",
        "enc_mask = torch.randn((3, 1, 1, 12)) > 0.5\n",
        "\n",
        "model = TransformerDecoder(16, 2, 32, 2, 0.1)\n",
        "z = model(dec_feats, enc_feats, enc_mask, dec_mask)\n",
        "assert len(z.shape) == len(dec_feats.shape)\n",
        "for dim_z, dim_x in zip(z.shape, dec_feats.shape):\n",
        "    assert dim_z == dim_x\n",
        "print(z.shape)"
      ],
      "id": "0af7e67d"
    },
    {
      "cell_type": "markdown",
      "metadata": {
        "id": "08f0615f"
      },
      "source": [
        "### <font size='4' color='red'>Task 4.3: Implement a Transformer-based Sequence-to-sequence model (7 points)</font>"
      ],
      "id": "08f0615f"
    },
    {
      "cell_type": "code",
      "execution_count": null,
      "metadata": {
        "colab": {
          "background_save": true
        },
        "id": "cad7dabf"
      },
      "outputs": [],
      "source": [
        "class Seq2SeqTransformer(nn.Module):\n",
        "    \"\"\"\n",
        "    Transformer-based sequence-to-sequence model.\n",
        "    \"\"\"\n",
        "    def __init__(self, \n",
        "            num_encoder_layers: int, num_decoder_layers: int, embed_dim: int,\n",
        "            num_heads: int, src_vocab_size: int, tgt_vocab_size: int,\n",
        "            trx_ff_dim: int = 512, dropout: float = 0.1, pad_token: int=0\n",
        "        ):\n",
        "        \"\"\"\n",
        "        Inputs:\n",
        "        - num_encoder_layers: How many TransformerEncoderCell in stack\n",
        "        - num_decoder_layers: How many TransformerDecoderCell in stack\n",
        "        - embed_dim: Word embeddings dimension\n",
        "        - num_heads: Number of attention heads\n",
        "        - src_vocab_size: Number of tokens in the source language vocabulary\n",
        "        - tgt_vocab_size: Number of tokens in the target language vocabulary\n",
        "        - trx_ff_dim: Hidden dimension in the feedforward network\n",
        "        - dropout: Dropout ratio\n",
        "        \"\"\"\n",
        "        super(Seq2SeqTransformer, self).__init__()\n",
        "        \n",
        "        self.embed_dim = embed_dim\n",
        "        \n",
        "        # Word embeddings for both the source and target languages\n",
        "        self.src_token_embed = nn.Embedding(src_vocab_size, embed_dim, padding_idx=pad_token)\n",
        "        self.tgt_token_embed = nn.Embedding(tgt_vocab_size, embed_dim, padding_idx=pad_token)\n",
        "        \n",
        "        ###########################################################################\n",
        "        # TODO: Define the positional encoding, encoder, decoder, and the output  #\n",
        "        # layer. Think of how many classes are in the output layer.               #\n",
        "        ###########################################################################\n",
        "\n",
        "     \n",
        "        self.encoder = TransformerEncoder(embed_dim,\n",
        "                                          num_heads,\n",
        "                                          trx_ff_dim,\n",
        "                                          num_encoder_layers,\n",
        "                                          dropout)\n",
        "        \n",
        "        self.decoder = TransformerDecoder(embed_dim, num_heads,\n",
        "                                          trx_ff_dim,\n",
        "                                          num_decoder_layers,\n",
        "                                          dropout)\n",
        "        self.output = nn.Linear(embed_dim, tgt_vocab_size)\n",
        "\n",
        "\n",
        "        ###########################################################################\n",
        "        #                             END OF YOUR CODE                            #\n",
        "        ###########################################################################\n",
        "        \n",
        "    def forward(self, src: torch.Tensor, tgt: torch.Tensor, src_mask: torch.Tensor, tgt_mask: torch.Tensor):\n",
        "        \"\"\"\n",
        "        Inputs:\n",
        "        - src: Tensor of BxLe, word indexes in the source language\n",
        "        - tgt: Tensor of BxLd, word indexes in the target language\n",
        "        - src_mask: Tensor, masks of the tokens on the encoder side\n",
        "        - tgt_mask: Tensor, masks of the tokens on the decoder side\n",
        "        \n",
        "        Return:\n",
        "        - y: Tensor of BxLdxK. K is the number of classes in the output.\n",
        "        \"\"\"\n",
        "        \n",
        "        # Get word embeddings. Not they are scaled.\n",
        "        src_embed = self.src_token_embed(src) * math.sqrt(self.embed_dim)\n",
        "        tgt_embed = self.tgt_token_embed(tgt) * math.sqrt(self.embed_dim)\n",
        "        \n",
        "        logits = None\n",
        "        ###########################################################################\n",
        "        # TODO: Add positional encodings to the word embeddings. Feed them then   #\n",
        "        # to the encoder and decoder, respectively. Get the logits finally.       #\n",
        "        ###########################################################################\n",
        "        # print(src_embed.size())\n",
        "        encoded = self.encoder(src_embed, src_mask)\n",
        "        decoded = self.decoder(tgt_embed, encoded, src_mask, tgt_mask)\n",
        "        logits = self.output(decoded)\n",
        "\n",
        "\n",
        "        ###########################################################################\n",
        "        #                             END OF YOUR CODE                            #\n",
        "        ###########################################################################\n",
        "        \n",
        "        return logits\n",
        "        "
      ],
      "id": "cad7dabf"
    },
    {
      "cell_type": "code",
      "execution_count": null,
      "metadata": {
        "colab": {
          "background_save": true
        },
        "id": "5ef6d873",
        "outputId": "2f084a35-2430-44b7-ebd5-74b612cb603b"
      },
      "outputs": [
        {
          "name": "stdout",
          "output_type": "stream",
          "text": [
            "torch.Size([2, 12, 12])\n"
          ]
        }
      ],
      "source": [
        "src_vocab_size = 10\n",
        "src = torch.arange(src_vocab_size).view(1, -1)\n",
        "src = torch.cat((src, src), dim=0)\n",
        "src_mask = torch.randn((2, 1, 1, src_vocab_size)) > 0.5\n",
        "\n",
        "tgt_vocab_size = 12\n",
        "tgt = torch.arange(tgt_vocab_size).view(1, -1)\n",
        "tgt = torch.cat((tgt, tgt), dim=0)\n",
        "tgt_mask = torch.randn((2, 1, tgt_vocab_size, tgt_vocab_size)) > 0.5\n",
        "\n",
        "model = Seq2SeqTransformer(2, 2, 16, 2, src_vocab_size, tgt_vocab_size, 32, 0.1, 0)\n",
        "z = model(src, tgt, src_mask, tgt_mask)\n",
        "print(z.shape)"
      ],
      "id": "5ef6d873"
    },
    {
      "cell_type": "markdown",
      "metadata": {
        "id": "922361b2"
      },
      "source": [
        "### Create Attention Masks"
      ],
      "id": "922361b2"
    },
    {
      "cell_type": "code",
      "execution_count": null,
      "metadata": {
        "colab": {
          "background_save": true
        },
        "id": "c9a73cc5"
      },
      "outputs": [],
      "source": [
        "def subsequent_mask(size):\n",
        "    \"Mask out subsequent positions.\"\n",
        "    attn_shape = (1, size, size)\n",
        "    subsequent_mask = np.triu(np.ones(attn_shape), k=1).astype('uint8')\n",
        "    return torch.from_numpy(subsequent_mask) == 0\n",
        "\n",
        "\n",
        "def create_mask(src, tgt, pad_token=0):\n",
        "    src_mask = (src != pad_token).unsqueeze(-2).unsqueeze(1)\n",
        "    \n",
        "    tgt_seq_len = tgt.shape[0]\n",
        "    tgt_mask = (tgt != pad_token).unsqueeze(-2)\n",
        "    tgt_mask = tgt_mask & subsequent_mask(tgt.shape[1]).type_as(tgt_mask.data)\n",
        "\n",
        "    return src_mask, tgt_mask.unsqueeze(1)"
      ],
      "id": "c9a73cc5"
    },
    {
      "cell_type": "code",
      "execution_count": null,
      "metadata": {
        "colab": {
          "background_save": true
        },
        "id": "ebd199b2",
        "outputId": "2471f731-0556-40bc-93dc-e086e1e1df44"
      },
      "outputs": [
        {
          "name": "stdout",
          "output_type": "stream",
          "text": [
            "torch.Size([2, 1, 1, 10]) torch.Size([2, 1, 10, 10])\n"
          ]
        },
        {
          "data": {
            "image/png": "[encoded data removed]",
            "text/plain": [
              "<Figure size 360x360 with 1 Axes>"
            ]
          },
          "metadata": {},
          "output_type": "display_data"
        }
      ],
      "source": [
        "# Let's visualize what the target mask looks like\n",
        "import seaborn\n",
        "seaborn.set_context(context=\"talk\")\n",
        "\n",
        "plt.figure(figsize=(5,5))\n",
        "plt.imshow(subsequent_mask(20)[0].numpy())\n",
        "\n",
        "x = torch.arange(src_vocab_size).view(1, -1)\n",
        "x = torch.cat((x, x), dim=0)\n",
        "src_mask, tgt_mask = create_mask(x, x)\n",
        "print(src_mask.shape, tgt_mask.shape)"
      ],
      "id": "ebd199b2"
    },
    {
      "cell_type": "markdown",
      "metadata": {
        "id": "efd3815f"
      },
      "source": [
        "### Prepare Data Loaders"
      ],
      "id": "efd3815f"
    },
    {
      "cell_type": "code",
      "execution_count": null,
      "metadata": {
        "colab": {
          "background_save": true
        },
        "id": "276afbc7"
      },
      "outputs": [],
      "source": [
        "from torchtext.data.utils import get_tokenizer\n",
        "from torchtext.vocab import build_vocab_from_iterator\n",
        "from torchtext.datasets import Multi30k\n",
        "from typing import Iterable, List\n",
        "\n",
        "\n",
        "SRC_LANGUAGE = 'de'\n",
        "TGT_LANGUAGE = 'en'\n",
        "\n",
        "# Place-holders\n",
        "token_transform = {}\n",
        "vocab_transform = {}\n",
        "\n",
        "\n",
        "# # Create source and target language tokenizer. Make sure to install the dependencies.\n",
        "# !pip install -U spacy\n",
        "# !python -m spacy download en_core_web_sm\n",
        "# !python -m spacy download de_core_news_sm\n",
        "token_transform[SRC_LANGUAGE] = get_tokenizer('spacy', language='de_core_news_sm')\n",
        "token_transform[TGT_LANGUAGE] = get_tokenizer('spacy', language='en_core_web_sm')\n",
        "\n",
        "\n",
        "# helper function to yield list of tokens\n",
        "def yield_tokens(data_iter: Iterable, language: str) -> List[str]:\n",
        "    language_index = {SRC_LANGUAGE: 0, TGT_LANGUAGE: 1}\n",
        "\n",
        "    for data_sample in data_iter:\n",
        "        yield token_transform[language](data_sample[language_index[language]])\n",
        "\n",
        "# Define special symbols and indices\n",
        "UNK_IDX, PAD_IDX, BOS_IDX, EOS_IDX = 0, 1, 2, 3\n",
        "# Make sure the tokens are in order of their indices to properly insert them in vocab\n",
        "special_symbols = ['<unk>', '<pad>', '<bos>', '<eos>']\n",
        " \n",
        "for ln in [SRC_LANGUAGE, TGT_LANGUAGE]:\n",
        "    # Training data Iterator \n",
        "    train_iter = Multi30k(split='train', language_pair=(SRC_LANGUAGE, TGT_LANGUAGE))\n",
        "    # Create torchtext's Vocab object \n",
        "    vocab_transform[ln] = build_vocab_from_iterator(yield_tokens(train_iter, ln),\n",
        "                                                    min_freq=1,\n",
        "                                                    specials=special_symbols,\n",
        "                                                    special_first=True)\n",
        "\n",
        "# Set UNK_IDX as the default index. This index is returned when the token is not found. \n",
        "# If not set, it throws RuntimeError when the queried token is not found in the Vocabulary. \n",
        "for ln in [SRC_LANGUAGE, TGT_LANGUAGE]:\n",
        "    vocab_transform[ln].set_default_index(UNK_IDX)"
      ],
      "id": "276afbc7"
    },
    {
      "cell_type": "code",
      "execution_count": null,
      "metadata": {
        "colab": {
          "background_save": true
        },
        "id": "e7ac308f"
      },
      "outputs": [],
      "source": [
        "from torch.nn.utils.rnn import pad_sequence\n",
        "\n",
        "# helper function to club together sequential operations\n",
        "def sequential_transforms(*transforms):\n",
        "    def func(txt_input):\n",
        "        for transform in transforms:\n",
        "            txt_input = transform(txt_input)\n",
        "        return txt_input\n",
        "    return func\n",
        "\n",
        "# function to add BOS/EOS and create tensor for input sequence indices\n",
        "def tensor_transform(token_ids: List[int]):\n",
        "    return torch.cat((torch.tensor([BOS_IDX]), \n",
        "                      torch.tensor(token_ids), \n",
        "                      torch.tensor([EOS_IDX])))\n",
        "\n",
        "# src and tgt language text transforms to convert raw strings into tensors indices\n",
        "text_transform = {}\n",
        "for ln in [SRC_LANGUAGE, TGT_LANGUAGE]:\n",
        "    text_transform[ln] = sequential_transforms(\n",
        "        token_transform[ln], #Tokenization\n",
        "        vocab_transform[ln], #Numericalization\n",
        "        tensor_transform # Add BOS/EOS and create tensor\n",
        "    )\n",
        "\n",
        "\n",
        "# function to collate data samples into batch tesors\n",
        "def collate_fn(batch):\n",
        "    src_batch, tgt_batch = [], []\n",
        "    for src_sample, tgt_sample in batch:\n",
        "        src_batch.append(text_transform[SRC_LANGUAGE](src_sample.rstrip(\"\\n\")))\n",
        "        tgt_batch.append(text_transform[TGT_LANGUAGE](tgt_sample.rstrip(\"\\n\")))\n",
        "\n",
        "    src_batch = pad_sequence(src_batch, padding_value=PAD_IDX)\n",
        "    tgt_batch = pad_sequence(tgt_batch, padding_value=PAD_IDX)\n",
        "    return src_batch.transpose(0, 1), tgt_batch.transpose(0, 1)"
      ],
      "id": "e7ac308f"
    },
    {
      "cell_type": "code",
      "execution_count": null,
      "metadata": {
        "colab": {
          "background_save": true
        },
        "id": "052976db",
        "outputId": "b4461f44-c825-459f-8f68-f59dd0821648"
      },
      "outputs": [
        {
          "name": "stdout",
          "output_type": "stream",
          "text": [
            "src: torch.Size([8, 18]), tgt: torch.Size([8, 17])\n",
            "src: torch.Size([8, 20]), tgt: torch.Size([8, 19])\n",
            "src: torch.Size([8, 18]), tgt: torch.Size([8, 19])\n"
          ]
        }
      ],
      "source": [
        "BATCH_SIZE = 8\n",
        "\n",
        "train_iter = Multi30k(split='train', language_pair=(SRC_LANGUAGE, TGT_LANGUAGE))\n",
        "train_dataloader = DataLoader(train_iter, batch_size=BATCH_SIZE, collate_fn=collate_fn)\n",
        "\n",
        "val_iter = Multi30k(split='valid', language_pair=(SRC_LANGUAGE, TGT_LANGUAGE))\n",
        "val_dataloader = DataLoader(val_iter, batch_size=BATCH_SIZE, collate_fn=collate_fn)\n",
        "\n",
        "for idx, (src, tgt) in enumerate(train_dataloader):\n",
        "    if idx > 2:\n",
        "        break\n",
        "    print('src: {}, tgt: {}'.format(src.shape, tgt.shape))"
      ],
      "id": "052976db"
    },
    {
      "cell_type": "markdown",
      "metadata": {
        "id": "76e9d060"
      },
      "source": [
        "### <font size='4' color='red'>Task 4.4: Define the Model and Loss Function (3 points)</font>"
      ],
      "id": "76e9d060"
    },
    {
      "cell_type": "code",
      "execution_count": null,
      "metadata": {
        "colab": {
          "background_save": true
        },
        "id": "b1cfcf01"
      },
      "outputs": [],
      "source": [
        "torch.manual_seed(0)\n",
        "\n",
        "SRC_VOCAB_SIZE = len(vocab_transform[SRC_LANGUAGE])\n",
        "TGT_VOCAB_SIZE = len(vocab_transform[TGT_LANGUAGE])\n",
        "EMBED_SIZE = 512\n",
        "NUM_ATTN_HEADS = 8\n",
        "FF_DIM = 512\n",
        "BATCH_SIZE = 128\n",
        "NUM_ENCODER_LAYERS = 3\n",
        "NUM_DECODER_LAYERS = 3\n",
        "\n",
        "###########################################################################\n",
        "# TODO: Define the model and loss function.                               #\n",
        "# Note that this time we will generate tokens, where some of them in the  #\n",
        "# training time are from paddings. We don't want to penalize the model    #\n",
        "# if the output at such positions are wrong. You can use the              #\n",
        "# `ignore_index` in a loss function to suppress loss computation if the   #\n",
        "# ground-truth label is equal to the given value. Check here for          #\n",
        "# more details https://pytorch.org/docs/stable/nn.html#loss-functions     #\n",
        "###########################################################################\n",
        "transformer = Seq2SeqTransformer(NUM_ENCODER_LAYERS,\n",
        "                           NUM_DECODER_LAYERS,\n",
        "                           EMBED_SIZE,\n",
        "                           NUM_ATTN_HEADS,\n",
        "                           SRC_VOCAB_SIZE,\n",
        "                           TGT_VOCAB_SIZE,\n",
        "                           FF_DIM)\n",
        "\n",
        "loss_fn = nn.CrossEntropyLoss()\n",
        "###########################################################################\n",
        "#                             END OF YOUR CODE                            #\n",
        "###########################################################################\n",
        "\n",
        "for p in transformer.parameters():\n",
        "    if p.dim() > 1:\n",
        "        nn.init.xavier_uniform_(p)\n",
        "transformer = transformer.to(device)\n",
        "\n",
        "optimizer = torch.optim.Adam(\n",
        "    transformer.parameters(), \n",
        "    lr=0.0001, \n",
        "    betas=(0.9, 0.98), \n",
        "    eps=1e-9\n",
        ")"
      ],
      "id": "b1cfcf01"
    },
    {
      "cell_type": "markdown",
      "metadata": {
        "id": "14426704"
      },
      "source": [
        "### Model Training and Validation"
      ],
      "id": "14426704"
    },
    {
      "cell_type": "code",
      "execution_count": null,
      "metadata": {
        "id": "47d0266e"
      },
      "outputs": [],
      "source": [
        "def train_epoch(model, optimizer):\n",
        "    model.train()\n",
        "    losses = 0\n",
        "    \n",
        "    train_iter = Multi30k(split='train', language_pair=(SRC_LANGUAGE, TGT_LANGUAGE))\n",
        "    train_dataloader = DataLoader(train_iter, batch_size=BATCH_SIZE, collate_fn=collate_fn)\n",
        "    \n",
        "    for src, tgt in train_dataloader:\n",
        "        src = src.to(device)\n",
        "        tgt = tgt.to(device)\n",
        "\n",
        "        tgt_input = tgt[:, :-1]\n",
        "\n",
        "        src_mask, tgt_mask = create_mask(src, tgt_input)\n",
        "        src_mask = src_mask.to(device)\n",
        "        tgt_mask = tgt_mask.to(device)\n",
        "\n",
        "        logits = model(src, tgt_input, src_mask, tgt_mask)\n",
        "\n",
        "        optimizer.zero_grad()\n",
        "\n",
        "        tgt_out = tgt[:, 1:]\n",
        "        loss = loss_fn(logits.reshape(-1, logits.shape[-1]), tgt_out.reshape(-1))\n",
        "        loss.backward()\n",
        "\n",
        "        optimizer.step()\n",
        "        losses += loss.item()\n",
        "\n",
        "    return losses / len(train_dataloader)\n",
        "\n",
        "\n",
        "def evaluate(model):\n",
        "    model.eval()\n",
        "    losses = 0\n",
        "\n",
        "    val_iter = Multi30k(split='valid', language_pair=(SRC_LANGUAGE, TGT_LANGUAGE))\n",
        "    val_dataloader = DataLoader(val_iter, batch_size=BATCH_SIZE, collate_fn=collate_fn)\n",
        "\n",
        "    for src, tgt in val_dataloader:\n",
        "        src = src.to(device)\n",
        "        tgt = tgt.to(device)\n",
        "\n",
        "        tgt_input = tgt[:, :-1]\n",
        "\n",
        "        src_mask, tgt_mask = create_mask(src, tgt_input)\n",
        "\n",
        "        logits = model(src, tgt_input, src_mask, tgt_mask)\n",
        "        \n",
        "        tgt_out = tgt[:, 1:]\n",
        "        loss = loss_fn(logits.reshape(-1, logits.shape[-1]), tgt_out.reshape(-1))\n",
        "        losses += loss.item()\n",
        "\n",
        "    return losses / len(val_dataloader)\n",
        "\n",
        "from timeit import default_timer as timer\n",
        "NUM_EPOCHS = 10\n",
        "\n",
        "# You should be able to get train loss around 1.5 and val loss around 2.2\n",
        "for epoch in range(1, NUM_EPOCHS+1):\n",
        "    start_time = timer()\n",
        "    train_loss = train_epoch(transformer, optimizer)\n",
        "    end_time = timer()\n",
        "    val_loss = evaluate(transformer)\n",
        "    print((f\"Epoch: {epoch}, Train loss: {train_loss:.3f}, Val loss: {val_loss:.3f}, \"f\"Epoch time = {(end_time - start_time):.3f}s\"))"
      ],
      "id": "47d0266e"
    },
    {
      "cell_type": "code",
      "execution_count": null,
      "metadata": {
        "id": "3660291b"
      },
      "outputs": [],
      "source": [
        ""
      ],
      "id": "3660291b"
    }
  ],
  "metadata": {
    "accelerator": "GPU",
    "colab": {
      "collapsed_sections": [
        "d789993e",
        "28eb6bd7",
        "cb2ee43c",
        "90f8ec47",
        "612890ad",
        "0f13c252",
        "a5c3571e",
        "e3582578",
        "02379104",
        "b4c4330c",
        "403b5eb6",
        "fba2a914",
        "966276ca",
        "570d32af",
        "922361b2"
      ],
      "name": "rnn_transformer_GPU.ipynb",
      "provenance": []
    },
    "kernelspec": {
      "display_name": "Python 3 (ipykernel)",
      "language": "python",
      "name": "python3"
    },
    "language_info": {
      "codemirror_mode": {
        "name": "ipython",
        "version": 3
      },
      "file_extension": ".py",
      "mimetype": "text/x-python",
      "name": "python",
      "nbconvert_exporter": "python",
      "pygments_lexer": "ipython3",
      "version": "3.10.1"
    }
  },
  "nbformat": 4,
  "nbformat_minor": 5
}